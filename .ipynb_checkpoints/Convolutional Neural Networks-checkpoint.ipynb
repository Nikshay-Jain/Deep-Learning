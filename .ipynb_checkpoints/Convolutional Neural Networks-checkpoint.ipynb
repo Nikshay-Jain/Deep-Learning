{
 "cells": [
  {
   "cell_type": "markdown",
   "id": "7e9be225",
   "metadata": {},
   "source": [
    "# Intro to CNNs !!!\n",
    "$\\textbf{Dense Neural Networks (DNN) looks for patterns globally}$ like for identification of a cat, if training data has eyes on left side of image, the testing one should also have it the same way. Passing a flipped image would not work as it would keep on looking for eyes in the same region. Here, all neurons are connected to all other so they read all the data passed ahead, hence look at the global picture.\n",
    "\n",
    "$\\textbf{Convolutional Neural Networks (CNN)}$ then comes into picture which identifies local patterns like how does an eyes, ears, paws, nose, etc look like and then looks for similiar patterns anywhere in the image.\n",
    "\n",
    "Here, all the $\\textbf{neurons are not connected densely to others so look only at specific features available locally}$.\n",
    "\n",
    "Multi-layered CNN has some layers looking for lines and edges, tthe next ones forming shapes from the combination of these lines and edges and final ones forming typical objects with the shapes obtained.\n",
    "\n",
    "$\\textbf{Feature maps}$ - are 3D tensors with 2 special axes (width and height) and 1 depth axes. They are the inputs  for CNNs which returns new feature maps representing the presence of specific features in them. These new maps are called $\\textbf{Response maps}$. The parts of input image (taken as same size as of features) undergoes dot product with the feature map's pattern and we get new matrices which then depict the new pattern found for the next level of feature.\n",
    "\n",
    "$\\textbf{Filters}$ - mxn pixels representing the presence or absence of features. No of features noted = depth of response map which has matrix indicating the same.\n",
    "\n",
    "$\\textbf{Border padding}$ - adding random pixels layer around the image so that extraction of 3x3 or 5x5 parts can enable having even the corner pixels of the image as the centre of a part to be tested."
   ]
  },
  {
   "cell_type": "markdown",
   "id": "767bd45a",
   "metadata": {},
   "source": [
    "## Analysing the dataset"
   ]
  },
  {
   "cell_type": "code",
   "execution_count": 1,
   "id": "3f1102b1",
   "metadata": {},
   "outputs": [],
   "source": [
    "import tensorflow as tf\n",
    "from tensorflow.keras import models, layers\n",
    "import matplotlib.pyplot as plt\n",
    "import numpy as np"
   ]
  },
  {
   "cell_type": "code",
   "execution_count": 2,
   "id": "4791d5d9",
   "metadata": {},
   "outputs": [],
   "source": [
    "(train, y_train), (test, y_test) = tf.keras.datasets.cifar10.load_data()"
   ]
  },
  {
   "cell_type": "code",
   "execution_count": 3,
   "id": "824ebc4d",
   "metadata": {},
   "outputs": [],
   "source": [
    "#Normalise pixel values\n",
    "train, test = train/255, test/255\n",
    "class_names = ['airplane','automobile','bird','cat','deer','dog','frog','horse','ship','truck']"
   ]
  },
  {
   "cell_type": "code",
   "execution_count": 4,
   "id": "3d6a2dcf",
   "metadata": {},
   "outputs": [
    {
     "data": {
      "image/png": "[encoded data removed]",
      "text/plain": [
       "<Figure size 640x480 with 1 Axes>"
      ]
     },
     "metadata": {},
     "output_type": "display_data"
    }
   ],
   "source": [
    "#Plotting an image\n",
    "plt.imshow(test[524], cmap = plt.cm.binary)\n",
    "plt.xlabel(class_names[y_train[1][0]])\n",
    "plt.show()"
   ]
  },
  {
   "cell_type": "markdown",
   "id": "f2b50592",
   "metadata": {},
   "source": [
    "## Creating the model\n",
    "General architecture - stack of Conv2D and Maxpooling2D layers to get features and fed to dense layers to get class of the image."
   ]
  },
  {
   "cell_type": "markdown",
   "id": "0cbd5bb7",
   "metadata": {},
   "source": [
    "### 1. Convolutional base"
   ]
  },
  {
   "cell_type": "code",
   "execution_count": 5,
   "id": "643bc61b",
   "metadata": {},
   "outputs": [],
   "source": [
    "model = models.Sequential()\n",
    "model.add(\n",
    "    layers.Conv2D(32, (3,3), activation = 'relu',          # We process 32 filters of size 3x3 with relu activation func\n",
    "    input_shape = (32,32,3)\n",
    "))\n",
    "model.add(layers.MaxPooling2D((2,2)))                       # Maxpooling operation using 2x2 sample and step of 2 pixels\n",
    "\n",
    "model.add(layers.Conv2D(64, (3,3), activation = 'relu'))    # Inc features from 32 to 64 as data is shrunk in spacial dimention\n",
    "model.add(layers.MaxPooling2D((2,2)))\n",
    "\n",
    "model.add(layers.Conv2D(64, (3,3), activation = 'relu'))"
   ]
  },
  {
   "cell_type": "code",
   "execution_count": 6,
   "id": "066781df",
   "metadata": {},
   "outputs": [
    {
     "name": "stdout",
     "output_type": "stream",
     "text": [
      "Model: \"sequential\"\n",
      "_________________________________________________________________\n",
      " Layer (type)                Output Shape              Param #   \n",
      "=================================================================\n",
      " conv2d (Conv2D)             (None, 30, 30, 32)        896       \n",
      "                                                                 \n",
      " max_pooling2d (MaxPooling2D  (None, 15, 15, 32)       0         \n",
      " )                                                               \n",
      "                                                                 \n",
      " conv2d_1 (Conv2D)           (None, 13, 13, 64)        18496     \n",
      "                                                                 \n",
      " max_pooling2d_1 (MaxPooling  (None, 6, 6, 64)         0         \n",
      " 2D)                                                             \n",
      "                                                                 \n",
      " conv2d_2 (Conv2D)           (None, 4, 4, 64)          36928     \n",
      "                                                                 \n",
      "=================================================================\n",
      "Total params: 56,320\n",
      "Trainable params: 56,320\n",
      "Non-trainable params: 0\n",
      "_________________________________________________________________\n"
     ]
    }
   ],
   "source": [
    "model.summary()\n",
    "#Output shape is 30,30,32 as 1 layer from the sides is considered padding layer but the depth remains the same\n",
    "#Depth of image increases to 64"
   ]
  },
  {
   "cell_type": "markdown",
   "id": "16bc9319",
   "metadata": {},
   "source": [
    "### 2. Dense layers"
   ]
  },
  {
   "cell_type": "code",
   "execution_count": 7,
   "id": "b98b760e",
   "metadata": {},
   "outputs": [],
   "source": [
    "model.add(layers.Flatten())                                 #Makes array from the matrix 4,4,64\n",
    "model.add(layers.Dense(units = 64, activation = 'relu'))    #Dense layer with 64 neurons\n",
    "model.add(layers.Dense(10))                                 #Output layer for 10 classes"
   ]
  },
  {
   "cell_type": "code",
   "execution_count": 8,
   "id": "3b951d94",
   "metadata": {},
   "outputs": [
    {
     "name": "stdout",
     "output_type": "stream",
     "text": [
      "Model: \"sequential\"\n",
      "_________________________________________________________________\n",
      " Layer (type)                Output Shape              Param #   \n",
      "=================================================================\n",
      " conv2d (Conv2D)             (None, 30, 30, 32)        896       \n",
      "                                                                 \n",
      " max_pooling2d (MaxPooling2D  (None, 15, 15, 32)       0         \n",
      " )                                                               \n",
      "                                                                 \n",
      " conv2d_1 (Conv2D)           (None, 13, 13, 64)        18496     \n",
      "                                                                 \n",
      " max_pooling2d_1 (MaxPooling  (None, 6, 6, 64)         0         \n",
      " 2D)                                                             \n",
      "                                                                 \n",
      " conv2d_2 (Conv2D)           (None, 4, 4, 64)          36928     \n",
      "                                                                 \n",
      " flatten (Flatten)           (None, 1024)              0         \n",
      "                                                                 \n",
      " dense (Dense)               (None, 64)                65600     \n",
      "                                                                 \n",
      " dense_1 (Dense)             (None, 10)                650       \n",
      "                                                                 \n",
      "=================================================================\n",
      "Total params: 122,570\n",
      "Trainable params: 122,570\n",
      "Non-trainable params: 0\n",
      "_________________________________________________________________\n"
     ]
    }
   ],
   "source": [
    "model.summary()"
   ]
  },
  {
   "cell_type": "markdown",
   "id": "249615e1",
   "metadata": {},
   "source": [
    "## Compiling the model\n",
    "Hyper-parameter tuning"
   ]
  },
  {
   "cell_type": "code",
   "execution_count": 9,
   "id": "5de4a1a3",
   "metadata": {},
   "outputs": [],
   "source": [
    "model.compile(\n",
    "    optimizer = 'adam',\n",
    "    loss = tf.keras.losses.SparseCategoricalCrossentropy(from_logits = True),\n",
    "    metrics = ['accuracy']\n",
    ")"
   ]
  },
  {
   "cell_type": "markdown",
   "id": "9c69b9e1",
   "metadata": {},
   "source": [
    "## Training and testing the model\n",
    "We did both the operations together by passing cross-validation data at the same time and as we use the same test set for testing, we get same test_acc during evaluation."
   ]
  },
  {
   "cell_type": "code",
   "execution_count": 10,
   "id": "ccbbad59",
   "metadata": {},
   "outputs": [
    {
     "name": "stdout",
     "output_type": "stream",
     "text": [
      "Epoch 1/10\n",
      "1563/1563 [==============================] - 29s 18ms/step - loss: 1.5301 - accuracy: 0.4384 - val_loss: 1.2401 - val_accuracy: 0.5535\n",
      "Epoch 2/10\n",
      "1563/1563 [==============================] - 33s 21ms/step - loss: 1.1583 - accuracy: 0.5881 - val_loss: 1.1558 - val_accuracy: 0.6035\n",
      "Epoch 3/10\n",
      "1563/1563 [==============================] - 35s 22ms/step - loss: 1.0041 - accuracy: 0.6463 - val_loss: 1.0285 - val_accuracy: 0.6351\n",
      "Epoch 4/10\n",
      "1563/1563 [==============================] - 36s 23ms/step - loss: 0.9116 - accuracy: 0.6802 - val_loss: 0.9188 - val_accuracy: 0.6801\n",
      "Epoch 5/10\n",
      "1563/1563 [==============================] - 33s 21ms/step - loss: 0.8321 - accuracy: 0.7089 - val_loss: 0.8863 - val_accuracy: 0.6934\n",
      "Epoch 6/10\n",
      "1563/1563 [==============================] - 33s 21ms/step - loss: 0.7740 - accuracy: 0.7299 - val_loss: 0.8509 - val_accuracy: 0.7036\n",
      "Epoch 7/10\n",
      "1563/1563 [==============================] - 33s 21ms/step - loss: 0.7223 - accuracy: 0.7457 - val_loss: 0.8230 - val_accuracy: 0.7133\n",
      "Epoch 8/10\n",
      "1563/1563 [==============================] - 33s 21ms/step - loss: 0.6743 - accuracy: 0.7637 - val_loss: 0.8245 - val_accuracy: 0.7191\n",
      "Epoch 9/10\n",
      "1563/1563 [==============================] - 33s 21ms/step - loss: 0.6320 - accuracy: 0.7786 - val_loss: 0.8454 - val_accuracy: 0.7087\n",
      "Epoch 10/10\n",
      "1563/1563 [==============================] - 33s 21ms/step - loss: 0.5933 - accuracy: 0.7905 - val_loss: 0.8448 - val_accuracy: 0.7127\n"
     ]
    }
   ],
   "source": [
    "history = model.fit(train, y_train, epochs = 10,\n",
    "                   validation_data = (test, y_test))"
   ]
  },
  {
   "cell_type": "markdown",
   "id": "4de6fdea",
   "metadata": {},
   "source": [
    "## Evaluating the model"
   ]
  },
  {
   "cell_type": "code",
   "execution_count": 10,
   "id": "fe549fd5",
   "metadata": {},
   "outputs": [
    {
     "name": "stdout",
     "output_type": "stream",
     "text": [
      "313/313 - 2s - loss: 2.3070 - accuracy: 0.1000 - 2s/epoch - 7ms/step\n",
      "0.10000000149011612\n"
     ]
    }
   ],
   "source": [
    "test_loss, test_acc = model.evaluate(test, y_test, verbose = 2)\n",
    "print(test_acc)"
   ]
  },
  {
   "cell_type": "markdown",
   "id": "2f9b70dd",
   "metadata": {},
   "source": [
    "## Predicting from model"
   ]
  },
  {
   "cell_type": "code",
   "execution_count": 12,
   "id": "bd4c8df9",
   "metadata": {},
   "outputs": [
    {
     "name": "stdout",
     "output_type": "stream",
     "text": [
      "313/313 [==============================] - 2s 6ms/step\n"
     ]
    }
   ],
   "source": [
    "pred = model.predict(test)"
   ]
  },
  {
   "cell_type": "code",
   "execution_count": 13,
   "id": "9e1dca71",
   "metadata": {},
   "outputs": [
    {
     "name": "stdout",
     "output_type": "stream",
     "text": [
      "Prediction:  airplane\n",
      "Actual:  airplane\n"
     ]
    }
   ],
   "source": [
    "print(\"Prediction: \",class_names[np.argmax(pred[524])])\n",
    "print(\"Actual: \",class_names[y_test[524][0]])"
   ]
  },
  {
   "cell_type": "markdown",
   "id": "a798af6c",
   "metadata": {},
   "source": [
    "# Data Augmentation for improving model performance\n",
    "We edit the images to increase training set to get better training performance"
   ]
  },
  {
   "cell_type": "code",
   "execution_count": 35,
   "id": "7aec2492",
   "metadata": {},
   "outputs": [],
   "source": [
    "# from keras.preprocessing.image import ImageDataGenerator\n",
    "# data_gen = ImageDataGenerator(\n",
    "#     rotation_range = 40,\n",
    "#     width_shift_range = 0.2,\n",
    "#     height_shift_range = 0.2,\n",
    "#     shear_range = 0.2,\n",
    "#     zoom_range = 0.2,\n",
    "#     horizontal_flip = True,\n",
    "#     fill_mode = 'nearest'\n",
    "# )\n",
    "\n",
    "# for i in range(len(train)):\n",
    "#     img = tf.keras.utils.img_to_array(train[i])\n",
    "#     img = img.reshape((1,) + img.shape)\n",
    "    \n",
    "#     j=0\n",
    "#     for batch in data_gen.flow(img, save_prefix = 'test', save_format = 'jpeg'):\n",
    "#         if(j>4):\n",
    "#             break;\n",
    "#         j+=1"
   ]
  },
  {
   "cell_type": "markdown",
   "id": "8e228a31",
   "metadata": {},
   "source": [
    "# Using pretrained model to improve performance"
   ]
  },
  {
   "cell_type": "code",
   "execution_count": null,
   "id": "302462d0",
   "metadata": {},
   "outputs": [],
   "source": []
  }
 ],
 "metadata": {
  "kernelspec": {
   "display_name": "Python 3 (ipykernel)",
   "language": "python",
   "name": "python3"
  },
  "language_info": {
   "codemirror_mode": {
    "name": "ipython",
    "version": 3
   },
   "file_extension": ".py",
   "mimetype": "text/x-python",
   "name": "python",
   "nbconvert_exporter": "python",
   "pygments_lexer": "ipython3",
   "version": "3.8.10"
  }
 },
 "nbformat": 4,
 "nbformat_minor": 5
}
