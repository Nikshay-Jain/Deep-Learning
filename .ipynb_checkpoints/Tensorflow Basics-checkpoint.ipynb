{
 "cells": [
  {
   "cell_type": "markdown",
   "id": "20618e5e",
   "metadata": {},
   "source": [
    "# Tensors"
   ]
  },
  {
   "cell_type": "code",
   "execution_count": 1,
   "id": "aeddbcc2",
   "metadata": {},
   "outputs": [],
   "source": [
    "import tensorflow as tf"
   ]
  },
  {
   "cell_type": "code",
   "execution_count": 2,
   "id": "db170df4",
   "metadata": {},
   "outputs": [],
   "source": [
    "#Defining tensors of order = 0\n",
    "str = tf.Variable(\"String tensor\",tf.string)\n",
    "no = tf.Variable(19042003, tf.int16)\n",
    "fl = tf.Variable(2.71828, tf.float16)"
   ]
  },
  {
   "cell_type": "code",
   "execution_count": 3,
   "id": "af5e0a20",
   "metadata": {},
   "outputs": [
    {
     "name": "stdout",
     "output_type": "stream",
     "text": [
      "<tf.Variable 'Variable:0' shape=() dtype=string, numpy=b'String tensor'>\n"
     ]
    }
   ],
   "source": [
    "print(str)"
   ]
  },
  {
   "cell_type": "code",
   "execution_count": 4,
   "id": "2d76712e",
   "metadata": {},
   "outputs": [],
   "source": [
    "#Degree of tensors\n",
    "rank1 = tf.Variable([\"rank\",\"1\",\"tensor\"])\n",
    "rank2 = tf.Variable([[\"this\",\"is\",\"a\"],[\"rank\",\"2\",\"tensors\"]], tf.string)"
   ]
  },
  {
   "cell_type": "code",
   "execution_count": 5,
   "id": "692702d6",
   "metadata": {},
   "outputs": [
    {
     "data": {
      "text/plain": [
       "<tf.Variable 'Variable:0' shape=(3,) dtype=string, numpy=array([b'rank', b'1', b'tensor'], dtype=object)>"
      ]
     },
     "execution_count": 5,
     "metadata": {},
     "output_type": "execute_result"
    }
   ],
   "source": [
    "rank1"
   ]
  },
  {
   "cell_type": "code",
   "execution_count": 6,
   "id": "52c4ef46",
   "metadata": {},
   "outputs": [
    {
     "data": {
      "text/plain": [
       "<tf.Tensor: shape=(), dtype=int32, numpy=2>"
      ]
     },
     "execution_count": 6,
     "metadata": {},
     "output_type": "execute_result"
    }
   ],
   "source": [
    "#Finding rank of tensor\n",
    "tf.rank(rank2)"
   ]
  },
  {
   "cell_type": "code",
   "execution_count": 7,
   "id": "64f492f7",
   "metadata": {},
   "outputs": [
    {
     "data": {
      "text/plain": [
       "TensorShape([2, 3])"
      ]
     },
     "execution_count": 7,
     "metadata": {},
     "output_type": "execute_result"
    }
   ],
   "source": [
    "#No of items in each dimention\n",
    "rank2.shape"
   ]
  },
  {
   "cell_type": "code",
   "execution_count": 8,
   "id": "4054af7c",
   "metadata": {},
   "outputs": [
    {
     "name": "stdout",
     "output_type": "stream",
     "text": [
      "tf.Tensor(\n",
      "[[[1. 1. 1.]\n",
      "  [1. 1. 1.]]], shape=(1, 2, 3), dtype=float32)\n"
     ]
    },
    {
     "data": {
      "text/plain": [
       "<tf.Tensor: shape=(2, 3, 1), dtype=float32, numpy=\n",
       "array([[[1.],\n",
       "        [1.],\n",
       "        [1.]],\n",
       "\n",
       "       [[1.],\n",
       "        [1.],\n",
       "        [1.]]], dtype=float32)>"
      ]
     },
     "execution_count": 8,
     "metadata": {},
     "output_type": "execute_result"
    }
   ],
   "source": [
    "#1 - layers, 2 - rows, 3 - columns\n",
    "t1 = tf.ones([1,2,3])\n",
    "print(t1)\n",
    "tf.reshape(t1, [2,3,1])"
   ]
  }
 ],
 "metadata": {
  "kernelspec": {
   "display_name": "Python 3 (ipykernel)",
   "language": "python",
   "name": "python3"
  },
  "language_info": {
   "codemirror_mode": {
    "name": "ipython",
    "version": 3
   },
   "file_extension": ".py",
   "mimetype": "text/x-python",
   "name": "python",
   "nbconvert_exporter": "python",
   "pygments_lexer": "ipython3",
   "version": "3.8.10"
  }
 },
 "nbformat": 4,
 "nbformat_minor": 5
}
