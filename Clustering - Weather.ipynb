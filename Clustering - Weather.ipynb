{
 "cells": [
  {
   "cell_type": "markdown",
   "id": "ca90b661",
   "metadata": {},
   "source": [
    "# Core Algorithms"
   ]
  },
  {
   "cell_type": "markdown",
   "id": "23fd448d",
   "metadata": {},
   "source": [
    "## Clustering (Hidden Markov Model) - Weather Dataset"
   ]
  },
  {
   "cell_type": "markdown",
   "id": "43c06e69",
   "metadata": {},
   "source": [
    "### Analysing the dataset\n",
    "1. Cold days - 0\n",
    "2. Hot days - 1\n",
    "3. 1st day - 80% chance of being cold\n",
    "4. Cold day has 30% chance of being followed by a hot day\n",
    "5. Hot day has 30% chance of being followed by a cold day\n",
    "6. Normal dist of temp on each day with mean and standard deviation as: 0 & 5 for cold and 15 and 10 for hot "
   ]
  },
  {
   "cell_type": "code",
   "execution_count": 1,
   "id": "c6376c22",
   "metadata": {},
   "outputs": [],
   "source": [
    "import tensorflow as tf\n",
    "import tensorflow_probability as tfp\n",
    "from tensorflow.compat.v2 import *"
   ]
  },
  {
   "cell_type": "code",
   "execution_count": 2,
   "id": "57829ae7",
   "metadata": {},
   "outputs": [],
   "source": [
    "tfd = tfp.distributions\n",
    "initial_dist = tfd.Categorical(probs=[0.8,0.2])\n",
    "trans_dist = tfd.Categorical(probs=[[0.7,0.3],\n",
    "                                    [0.2,0.8]])\n",
    "obs_dist = tfd.Normal(loc=[0,15], scale=[5,10])"
   ]
  },
  {
   "cell_type": "markdown",
   "id": "290089dd",
   "metadata": {},
   "source": [
    "### Model creation"
   ]
  },
  {
   "cell_type": "code",
   "execution_count": 3,
   "id": "9c01cd0d",
   "metadata": {},
   "outputs": [],
   "source": [
    "model = tfd.HiddenMarkovModel(\n",
    "    initial_distribution = initial_dist,\n",
    "    transition_distribution = trans_dist,\n",
    "    observation_distribution = obs_dist,\n",
    "    num_steps = 7)\n",
    "#the no of steps represent the no of days to predict. Here its for a week"
   ]
  },
  {
   "cell_type": "code",
   "execution_count": 4,
   "id": "6fb955e9",
   "metadata": {},
   "outputs": [
    {
     "data": {
      "text/plain": [
       "array([3.       , 5.9999995, 7.4999995, 8.25     , 8.625    , 8.812501 ,\n",
       "       8.90625  ], dtype=float32)"
      ]
     },
     "execution_count": 4,
     "metadata": {},
     "output_type": "execute_result"
    }
   ],
   "source": [
    "mean = model.mean().numpy()\n",
    "mean"
   ]
  },
  {
   "cell_type": "code",
   "execution_count": null,
   "id": "1541314a",
   "metadata": {},
   "outputs": [],
   "source": []
  }
 ],
 "metadata": {
  "kernelspec": {
   "display_name": "Python 3 (ipykernel)",
   "language": "python",
   "name": "python3"
  },
  "language_info": {
   "codemirror_mode": {
    "name": "ipython",
    "version": 3
   },
   "file_extension": ".py",
   "mimetype": "text/x-python",
   "name": "python",
   "nbconvert_exporter": "python",
   "pygments_lexer": "ipython3",
   "version": "3.8.10"
  }
 },
 "nbformat": 4,
 "nbformat_minor": 5
}
