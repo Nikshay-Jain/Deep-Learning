{
 "cells": [
  {
   "cell_type": "markdown",
   "id": "ca90b661",
   "metadata": {},
   "source": [
    "# Core Algorithms"
   ]
  },
  {
   "cell_type": "markdown",
   "id": "38175282",
   "metadata": {},
   "source": [
    "## Classification - Iris Dataset"
   ]
  },
  {
   "cell_type": "markdown",
   "id": "c633edd4",
   "metadata": {},
   "source": [
    "### Analysing the dataset"
   ]
  },
  {
   "cell_type": "code",
   "execution_count": 3,
   "id": "33090a71",
   "metadata": {},
   "outputs": [],
   "source": [
    "import tensorflow as tf\n",
    "import pandas as pd"
   ]
  },
  {
   "cell_type": "code",
   "execution_count": 4,
   "id": "b679ae0b",
   "metadata": {},
   "outputs": [],
   "source": [
    "train_path = tf.keras.utils.get_file(\"iris_training.csv\", \"https://storage.googleapis.com/download.tensorflow.org/data/iris_training.csv\")\n",
    "test_path = tf.keras.utils.get_file(\"iris_test.csv\", \"https://storage.googleapis.com/download.tensorflow.org/data/iris_test.csv\")\n",
    "\n",
    "col_names = ['SepalLength','SepalWidth','PetalLength','PetalWidth','Species']\n",
    "train = pd.read_csv(train_path, names = col_names, header = 0)\n",
    "test = pd.read_csv(test_path, names = col_names, header = 0)"
   ]
  },
  {
   "cell_type": "code",
   "execution_count": 5,
   "id": "565ea6f0",
   "metadata": {},
   "outputs": [
    {
     "data": {
      "text/html": [
       "<div>\n",
       "<style scoped>\n",
       "    .dataframe tbody tr th:only-of-type {\n",
       "        vertical-align: middle;\n",
       "    }\n",
       "\n",
       "    .dataframe tbody tr th {\n",
       "        vertical-align: top;\n",
       "    }\n",
       "\n",
       "    .dataframe thead th {\n",
       "        text-align: right;\n",
       "    }\n",
       "</style>\n",
       "<table border=\"1\" class=\"dataframe\">\n",
       "  <thead>\n",
       "    <tr style=\"text-align: right;\">\n",
       "      <th></th>\n",
       "      <th>SepalLength</th>\n",
       "      <th>SepalWidth</th>\n",
       "      <th>PetalLength</th>\n",
       "      <th>PetalWidth</th>\n",
       "      <th>Species</th>\n",
       "    </tr>\n",
       "  </thead>\n",
       "  <tbody>\n",
       "    <tr>\n",
       "      <th>0</th>\n",
       "      <td>6.4</td>\n",
       "      <td>2.8</td>\n",
       "      <td>5.6</td>\n",
       "      <td>2.2</td>\n",
       "      <td>2</td>\n",
       "    </tr>\n",
       "    <tr>\n",
       "      <th>1</th>\n",
       "      <td>5.0</td>\n",
       "      <td>2.3</td>\n",
       "      <td>3.3</td>\n",
       "      <td>1.0</td>\n",
       "      <td>1</td>\n",
       "    </tr>\n",
       "    <tr>\n",
       "      <th>2</th>\n",
       "      <td>4.9</td>\n",
       "      <td>2.5</td>\n",
       "      <td>4.5</td>\n",
       "      <td>1.7</td>\n",
       "      <td>2</td>\n",
       "    </tr>\n",
       "    <tr>\n",
       "      <th>3</th>\n",
       "      <td>4.9</td>\n",
       "      <td>3.1</td>\n",
       "      <td>1.5</td>\n",
       "      <td>0.1</td>\n",
       "      <td>0</td>\n",
       "    </tr>\n",
       "    <tr>\n",
       "      <th>4</th>\n",
       "      <td>5.7</td>\n",
       "      <td>3.8</td>\n",
       "      <td>1.7</td>\n",
       "      <td>0.3</td>\n",
       "      <td>0</td>\n",
       "    </tr>\n",
       "    <tr>\n",
       "      <th>...</th>\n",
       "      <td>...</td>\n",
       "      <td>...</td>\n",
       "      <td>...</td>\n",
       "      <td>...</td>\n",
       "      <td>...</td>\n",
       "    </tr>\n",
       "    <tr>\n",
       "      <th>115</th>\n",
       "      <td>5.5</td>\n",
       "      <td>2.6</td>\n",
       "      <td>4.4</td>\n",
       "      <td>1.2</td>\n",
       "      <td>1</td>\n",
       "    </tr>\n",
       "    <tr>\n",
       "      <th>116</th>\n",
       "      <td>5.7</td>\n",
       "      <td>3.0</td>\n",
       "      <td>4.2</td>\n",
       "      <td>1.2</td>\n",
       "      <td>1</td>\n",
       "    </tr>\n",
       "    <tr>\n",
       "      <th>117</th>\n",
       "      <td>4.4</td>\n",
       "      <td>2.9</td>\n",
       "      <td>1.4</td>\n",
       "      <td>0.2</td>\n",
       "      <td>0</td>\n",
       "    </tr>\n",
       "    <tr>\n",
       "      <th>118</th>\n",
       "      <td>4.8</td>\n",
       "      <td>3.0</td>\n",
       "      <td>1.4</td>\n",
       "      <td>0.1</td>\n",
       "      <td>0</td>\n",
       "    </tr>\n",
       "    <tr>\n",
       "      <th>119</th>\n",
       "      <td>5.5</td>\n",
       "      <td>2.4</td>\n",
       "      <td>3.7</td>\n",
       "      <td>1.0</td>\n",
       "      <td>1</td>\n",
       "    </tr>\n",
       "  </tbody>\n",
       "</table>\n",
       "<p>120 rows × 5 columns</p>\n",
       "</div>"
      ],
      "text/plain": [
       "     SepalLength  SepalWidth  PetalLength  PetalWidth  Species\n",
       "0            6.4         2.8          5.6         2.2        2\n",
       "1            5.0         2.3          3.3         1.0        1\n",
       "2            4.9         2.5          4.5         1.7        2\n",
       "3            4.9         3.1          1.5         0.1        0\n",
       "4            5.7         3.8          1.7         0.3        0\n",
       "..           ...         ...          ...         ...      ...\n",
       "115          5.5         2.6          4.4         1.2        1\n",
       "116          5.7         3.0          4.2         1.2        1\n",
       "117          4.4         2.9          1.4         0.2        0\n",
       "118          4.8         3.0          1.4         0.1        0\n",
       "119          5.5         2.4          3.7         1.0        1\n",
       "\n",
       "[120 rows x 5 columns]"
      ]
     },
     "execution_count": 5,
     "metadata": {},
     "output_type": "execute_result"
    }
   ],
   "source": [
    "train"
   ]
  },
  {
   "cell_type": "code",
   "execution_count": 6,
   "id": "33fd9d6d",
   "metadata": {},
   "outputs": [],
   "source": [
    "y_train = train.pop(\"Species\")\n",
    "y_test = test.pop(\"Species\")"
   ]
  },
  {
   "cell_type": "markdown",
   "id": "003d48bd",
   "metadata": {},
   "source": [
    "### Input function\n",
    "Instead of creating nested func, we use lambda func to call this input_fn"
   ]
  },
  {
   "cell_type": "code",
   "execution_count": 7,
   "id": "3bb4f4e3",
   "metadata": {},
   "outputs": [],
   "source": [
    "def input_fn(features, labels, training=True, batch_size = 256):\n",
    "    ds = tf.data.Dataset.from_tensor_slices((dict(features),labels))\n",
    "    if training:\n",
    "        ds = ds.shuffle(1000).repeat()\n",
    "    \n",
    "    return ds.batch(batch_size)"
   ]
  },
  {
   "cell_type": "markdown",
   "id": "8debca8c",
   "metadata": {},
   "source": [
    "### Create Feature Columns"
   ]
  },
  {
   "cell_type": "code",
   "execution_count": 8,
   "id": "12e1c366",
   "metadata": {},
   "outputs": [
    {
     "name": "stdout",
     "output_type": "stream",
     "text": [
      "WARNING:tensorflow:From C:\\Users\\Nikshay Jain\\AppData\\Local\\Temp\\ipykernel_18828\\1141947366.py:3: numeric_column (from tensorflow.python.feature_column.feature_column_v2) is deprecated and will be removed in a future version.\n",
      "Instructions for updating:\n",
      "Use Keras preprocessing layers instead, either directly or via the `tf.keras.utils.FeatureSpace` utility. Each of `tf.feature_column.*` has a functional equivalent in `tf.keras.layers` for feature preprocessing when training a Keras model.\n",
      "[NumericColumn(key='SepalLength', shape=(1,), default_value=None, dtype=tf.float32, normalizer_fn=None), NumericColumn(key='SepalWidth', shape=(1,), default_value=None, dtype=tf.float32, normalizer_fn=None), NumericColumn(key='PetalLength', shape=(1,), default_value=None, dtype=tf.float32, normalizer_fn=None), NumericColumn(key='PetalWidth', shape=(1,), default_value=None, dtype=tf.float32, normalizer_fn=None)]\n"
     ]
    }
   ],
   "source": [
    "feature_columns = []\n",
    "for key in train.keys():\n",
    "    feature_columns.append(tf.feature_column.numeric_column(key=key))\n",
    "\n",
    "print(feature_columns)"
   ]
  },
  {
   "cell_type": "markdown",
   "id": "e9b6f326",
   "metadata": {},
   "source": [
    "### Build the model\n",
    "Out of many classifier models, Deep Neural Network (DNN) Classifer seems to be the best for this."
   ]
  },
  {
   "cell_type": "code",
   "execution_count": 9,
   "id": "3d39227e",
   "metadata": {},
   "outputs": [
    {
     "name": "stdout",
     "output_type": "stream",
     "text": [
      "WARNING:tensorflow:From C:\\Users\\Nikshay Jain\\AppData\\Local\\Temp\\ipykernel_18828\\4274066226.py:1: DNNClassifierV2.__init__ (from tensorflow_estimator.python.estimator.canned.dnn) is deprecated and will be removed in a future version.\n",
      "Instructions for updating:\n",
      "Use tf.keras instead.\n",
      "WARNING:tensorflow:From c:\\users\\nikshay jain\\appdata\\local\\programs\\python\\python38\\lib\\site-packages\\tensorflow_estimator\\python\\estimator\\head\\head_utils.py:59: MultiClassHead.__init__ (from tensorflow_estimator.python.estimator.head.multi_class_head) is deprecated and will be removed in a future version.\n",
      "Instructions for updating:\n",
      "Use tf.keras instead.\n",
      "WARNING:tensorflow:From c:\\users\\nikshay jain\\appdata\\local\\programs\\python\\python38\\lib\\site-packages\\tensorflow_estimator\\python\\estimator\\canned\\dnn.py:759: Estimator.__init__ (from tensorflow_estimator.python.estimator.estimator) is deprecated and will be removed in a future version.\n",
      "Instructions for updating:\n",
      "Use tf.keras instead.\n",
      "WARNING:tensorflow:From c:\\users\\nikshay jain\\appdata\\local\\programs\\python\\python38\\lib\\site-packages\\tensorflow_estimator\\python\\estimator\\estimator.py:1842: RunConfig.__init__ (from tensorflow_estimator.python.estimator.run_config) is deprecated and will be removed in a future version.\n",
      "Instructions for updating:\n",
      "Use tf.keras instead.\n",
      "INFO:tensorflow:Using default config.\n",
      "WARNING:tensorflow:Using temporary folder as model directory: C:\\Users\\NIKSHA~1\\AppData\\Local\\Temp\\tmpqvjmd80b\n",
      "INFO:tensorflow:Using config: {'_model_dir': 'C:\\\\Users\\\\NIKSHA~1\\\\AppData\\\\Local\\\\Temp\\\\tmpqvjmd80b', '_tf_random_seed': None, '_save_summary_steps': 100, '_save_checkpoints_steps': None, '_save_checkpoints_secs': 600, '_session_config': allow_soft_placement: true\n",
      "graph_options {\n",
      "  rewrite_options {\n",
      "    meta_optimizer_iterations: ONE\n",
      "  }\n",
      "}\n",
      ", '_keep_checkpoint_max': 5, '_keep_checkpoint_every_n_hours': 10000, '_log_step_count_steps': 100, '_train_distribute': None, '_device_fn': None, '_protocol': None, '_eval_distribute': None, '_experimental_distribute': None, '_experimental_max_worker_delay_secs': None, '_session_creation_timeout_secs': 7200, '_checkpoint_save_graph_def': True, '_service': None, '_cluster_spec': ClusterSpec({}), '_task_type': 'worker', '_task_id': 0, '_global_id_in_cluster': 0, '_master': '', '_evaluation_master': '', '_is_chief': True, '_num_ps_replicas': 0, '_num_worker_replicas': 1}\n"
     ]
    }
   ],
   "source": [
    "classifier = tf.estimator.DNNClassifier(feature_columns = feature_columns, hidden_units = [30,10], n_classes = 3)\n",
    "# There should be 2 Hidden layers with 30 and 10 neurons which need to classify an input among 3 fixed outputs"
   ]
  },
  {
   "cell_type": "markdown",
   "id": "32f5bec1",
   "metadata": {},
   "source": [
    "### Training and Evaluating the model"
   ]
  },
  {
   "cell_type": "code",
   "execution_count": 10,
   "id": "ff14bb6f",
   "metadata": {},
   "outputs": [
    {
     "name": "stdout",
     "output_type": "stream",
     "text": [
      "WARNING:tensorflow:From c:\\users\\nikshay jain\\appdata\\local\\programs\\python\\python38\\lib\\site-packages\\tensorflow_estimator\\python\\estimator\\estimator.py:385: StopAtStepHook.__init__ (from tensorflow.python.training.basic_session_run_hooks) is deprecated and will be removed in a future version.\n",
      "Instructions for updating:\n",
      "Use tf.keras instead.\n",
      "WARNING:tensorflow:From c:\\users\\nikshay jain\\appdata\\local\\programs\\python\\python38\\lib\\site-packages\\tensorflow\\python\\training\\training_util.py:396: Variable.initialized_value (from tensorflow.python.ops.variables) is deprecated and will be removed in a future version.\n",
      "Instructions for updating:\n",
      "Use Variable.read_value. Variables in 2.X are initialized automatically both in eager and graph (inside tf.defun) contexts.\n",
      "INFO:tensorflow:Calling model_fn.\n",
      "WARNING:tensorflow:From c:\\users\\nikshay jain\\appdata\\local\\programs\\python\\python38\\lib\\site-packages\\keras\\optimizers\\legacy\\adagrad.py:93: calling Constant.__init__ (from tensorflow.python.ops.init_ops) with dtype is deprecated and will be removed in a future version.\n",
      "Instructions for updating:\n",
      "Call initializer instance with the dtype argument instead of passing it to the constructor\n",
      "WARNING:tensorflow:From c:\\users\\nikshay jain\\appdata\\local\\programs\\python\\python38\\lib\\site-packages\\tensorflow_estimator\\python\\estimator\\model_fn.py:250: EstimatorSpec.__new__ (from tensorflow_estimator.python.estimator.model_fn) is deprecated and will be removed in a future version.\n",
      "Instructions for updating:\n",
      "Use tf.keras instead.\n",
      "INFO:tensorflow:Done calling model_fn.\n",
      "WARNING:tensorflow:From c:\\users\\nikshay jain\\appdata\\local\\programs\\python\\python38\\lib\\site-packages\\tensorflow_estimator\\python\\estimator\\estimator.py:1414: NanTensorHook.__init__ (from tensorflow.python.training.basic_session_run_hooks) is deprecated and will be removed in a future version.\n",
      "Instructions for updating:\n",
      "Use tf.keras instead.\n",
      "WARNING:tensorflow:From c:\\users\\nikshay jain\\appdata\\local\\programs\\python\\python38\\lib\\site-packages\\tensorflow_estimator\\python\\estimator\\estimator.py:1417: LoggingTensorHook.__init__ (from tensorflow.python.training.basic_session_run_hooks) is deprecated and will be removed in a future version.\n",
      "Instructions for updating:\n",
      "Use tf.keras instead.\n",
      "WARNING:tensorflow:From c:\\users\\nikshay jain\\appdata\\local\\programs\\python\\python38\\lib\\site-packages\\tensorflow\\python\\training\\basic_session_run_hooks.py:232: SecondOrStepTimer.__init__ (from tensorflow.python.training.basic_session_run_hooks) is deprecated and will be removed in a future version.\n",
      "Instructions for updating:\n",
      "Use tf.keras instead.\n",
      "WARNING:tensorflow:From c:\\users\\nikshay jain\\appdata\\local\\programs\\python\\python38\\lib\\site-packages\\tensorflow_estimator\\python\\estimator\\estimator.py:1454: CheckpointSaverHook.__init__ (from tensorflow.python.training.basic_session_run_hooks) is deprecated and will be removed in a future version.\n",
      "Instructions for updating:\n",
      "Use tf.keras instead.\n",
      "INFO:tensorflow:Create CheckpointSaverHook.\n",
      "WARNING:tensorflow:From c:\\users\\nikshay jain\\appdata\\local\\programs\\python\\python38\\lib\\site-packages\\tensorflow\\python\\training\\monitored_session.py:579: StepCounterHook.__init__ (from tensorflow.python.training.basic_session_run_hooks) is deprecated and will be removed in a future version.\n",
      "Instructions for updating:\n",
      "Use tf.keras instead.\n",
      "WARNING:tensorflow:From c:\\users\\nikshay jain\\appdata\\local\\programs\\python\\python38\\lib\\site-packages\\tensorflow\\python\\training\\monitored_session.py:586: SummarySaverHook.__init__ (from tensorflow.python.training.basic_session_run_hooks) is deprecated and will be removed in a future version.\n",
      "Instructions for updating:\n",
      "Use tf.keras instead.\n",
      "INFO:tensorflow:Graph was finalized.\n",
      "INFO:tensorflow:Running local_init_op.\n",
      "INFO:tensorflow:Done running local_init_op.\n",
      "INFO:tensorflow:Calling checkpoint listeners before saving checkpoint 0...\n",
      "INFO:tensorflow:Saving checkpoints for 0 into C:\\Users\\NIKSHA~1\\AppData\\Local\\Temp\\tmpqvjmd80b\\model.ckpt.\n",
      "INFO:tensorflow:Calling checkpoint listeners after saving checkpoint 0...\n",
      "WARNING:tensorflow:From c:\\users\\nikshay jain\\appdata\\local\\programs\\python\\python38\\lib\\site-packages\\tensorflow\\python\\training\\monitored_session.py:1455: SessionRunArgs.__new__ (from tensorflow.python.training.session_run_hook) is deprecated and will be removed in a future version.\n",
      "Instructions for updating:\n",
      "Use tf.keras instead.\n",
      "WARNING:tensorflow:From c:\\users\\nikshay jain\\appdata\\local\\programs\\python\\python38\\lib\\site-packages\\tensorflow\\python\\training\\monitored_session.py:1454: SessionRunContext.__init__ (from tensorflow.python.training.session_run_hook) is deprecated and will be removed in a future version.\n",
      "Instructions for updating:\n",
      "Use tf.keras instead.\n",
      "WARNING:tensorflow:From c:\\users\\nikshay jain\\appdata\\local\\programs\\python\\python38\\lib\\site-packages\\tensorflow\\python\\training\\monitored_session.py:1474: SessionRunValues.__new__ (from tensorflow.python.training.session_run_hook) is deprecated and will be removed in a future version.\n",
      "Instructions for updating:\n",
      "Use tf.keras instead.\n",
      "INFO:tensorflow:loss = 2.4468138, step = 0\n",
      "INFO:tensorflow:global_step/sec: 285.087\n",
      "INFO:tensorflow:loss = 1.5187662, step = 100 (0.355 sec)\n",
      "INFO:tensorflow:global_step/sec: 399.939\n",
      "INFO:tensorflow:loss = 1.3149023, step = 200 (0.250 sec)\n",
      "INFO:tensorflow:global_step/sec: 391.308\n",
      "INFO:tensorflow:loss = 1.2368646, step = 300 (0.253 sec)\n",
      "INFO:tensorflow:global_step/sec: 452.495\n",
      "INFO:tensorflow:loss = 1.1632286, step = 400 (0.235 sec)\n",
      "INFO:tensorflow:global_step/sec: 427.238\n",
      "INFO:tensorflow:loss = 1.1192174, step = 500 (0.232 sec)\n",
      "INFO:tensorflow:global_step/sec: 447.178\n",
      "INFO:tensorflow:loss = 1.0904306, step = 600 (0.210 sec)\n",
      "INFO:tensorflow:global_step/sec: 448.426\n",
      "INFO:tensorflow:loss = 1.0845199, step = 700 (0.231 sec)\n",
      "INFO:tensorflow:global_step/sec: 406.363\n",
      "INFO:tensorflow:loss = 1.0597067, step = 800 (0.240 sec)\n",
      "INFO:tensorflow:global_step/sec: 418.368\n",
      "INFO:tensorflow:loss = 1.0546622, step = 900 (0.243 sec)\n",
      "INFO:tensorflow:global_step/sec: 452.335\n",
      "INFO:tensorflow:loss = 1.0397023, step = 1000 (0.216 sec)\n",
      "INFO:tensorflow:global_step/sec: 404.953\n",
      "INFO:tensorflow:loss = 1.0265185, step = 1100 (0.247 sec)\n",
      "INFO:tensorflow:global_step/sec: 557.403\n",
      "INFO:tensorflow:loss = 1.0163395, step = 1200 (0.186 sec)\n",
      "INFO:tensorflow:global_step/sec: 818.658\n",
      "INFO:tensorflow:loss = 1.0048825, step = 1300 (0.118 sec)\n",
      "INFO:tensorflow:global_step/sec: 809.333\n",
      "INFO:tensorflow:loss = 1.0034199, step = 1400 (0.123 sec)\n",
      "INFO:tensorflow:global_step/sec: 874.176\n",
      "INFO:tensorflow:loss = 0.9924703, step = 1500 (0.113 sec)\n",
      "INFO:tensorflow:global_step/sec: 887.651\n",
      "INFO:tensorflow:loss = 0.9925729, step = 1600 (0.113 sec)\n",
      "INFO:tensorflow:global_step/sec: 891.842\n",
      "INFO:tensorflow:loss = 0.977126, step = 1700 (0.112 sec)\n",
      "INFO:tensorflow:global_step/sec: 934.021\n",
      "INFO:tensorflow:loss = 0.9673273, step = 1800 (0.107 sec)\n",
      "INFO:tensorflow:global_step/sec: 936.574\n",
      "INFO:tensorflow:loss = 0.9674074, step = 1900 (0.107 sec)\n",
      "INFO:tensorflow:global_step/sec: 746.783\n",
      "INFO:tensorflow:loss = 0.9633712, step = 2000 (0.135 sec)\n",
      "INFO:tensorflow:global_step/sec: 910.576\n",
      "INFO:tensorflow:loss = 0.95699966, step = 2100 (0.120 sec)\n",
      "INFO:tensorflow:global_step/sec: 868.533\n",
      "INFO:tensorflow:loss = 0.9449173, step = 2200 (0.104 sec)\n",
      "INFO:tensorflow:global_step/sec: 807.328\n",
      "INFO:tensorflow:loss = 0.946875, step = 2300 (0.124 sec)\n",
      "INFO:tensorflow:global_step/sec: 908.176\n",
      "INFO:tensorflow:loss = 0.93542516, step = 2400 (0.110 sec)\n",
      "INFO:tensorflow:global_step/sec: 498.472\n",
      "INFO:tensorflow:loss = 0.9280866, step = 2500 (0.203 sec)\n",
      "INFO:tensorflow:global_step/sec: 421.022\n",
      "INFO:tensorflow:loss = 0.92203176, step = 2600 (0.235 sec)\n",
      "INFO:tensorflow:global_step/sec: 412.171\n",
      "INFO:tensorflow:loss = 0.9186902, step = 2700 (0.249 sec)\n",
      "INFO:tensorflow:global_step/sec: 369.902\n",
      "INFO:tensorflow:loss = 0.9097006, step = 2800 (0.271 sec)\n",
      "INFO:tensorflow:global_step/sec: 383.178\n",
      "INFO:tensorflow:loss = 0.9095915, step = 2900 (0.259 sec)\n",
      "INFO:tensorflow:global_step/sec: 395.847\n",
      "INFO:tensorflow:loss = 0.9025667, step = 3000 (0.247 sec)\n",
      "INFO:tensorflow:global_step/sec: 421.29\n",
      "INFO:tensorflow:loss = 0.8944527, step = 3100 (0.244 sec)\n",
      "INFO:tensorflow:global_step/sec: 393.253\n"
     ]
    },
    {
     "name": "stdout",
     "output_type": "stream",
     "text": [
      "INFO:tensorflow:loss = 0.88960004, step = 3200 (0.253 sec)\n",
      "INFO:tensorflow:global_step/sec: 439.672\n",
      "INFO:tensorflow:loss = 0.88272357, step = 3300 (0.222 sec)\n",
      "INFO:tensorflow:global_step/sec: 437.753\n",
      "INFO:tensorflow:loss = 0.8789518, step = 3400 (0.244 sec)\n",
      "INFO:tensorflow:global_step/sec: 403.261\n",
      "INFO:tensorflow:loss = 0.8688588, step = 3500 (0.232 sec)\n",
      "INFO:tensorflow:global_step/sec: 405.718\n",
      "INFO:tensorflow:loss = 0.86371243, step = 3600 (0.246 sec)\n",
      "INFO:tensorflow:global_step/sec: 423.54\n",
      "INFO:tensorflow:loss = 0.85280335, step = 3700 (0.244 sec)\n",
      "INFO:tensorflow:global_step/sec: 414.096\n",
      "INFO:tensorflow:loss = 0.8479091, step = 3800 (0.234 sec)\n",
      "INFO:tensorflow:global_step/sec: 451.511\n",
      "INFO:tensorflow:loss = 0.84389365, step = 3900 (0.221 sec)\n",
      "INFO:tensorflow:global_step/sec: 388.392\n",
      "INFO:tensorflow:loss = 0.8402181, step = 4000 (0.261 sec)\n",
      "INFO:tensorflow:global_step/sec: 421.706\n",
      "INFO:tensorflow:loss = 0.8298086, step = 4100 (0.233 sec)\n",
      "INFO:tensorflow:global_step/sec: 429.182\n",
      "INFO:tensorflow:loss = 0.8269917, step = 4200 (0.249 sec)\n",
      "INFO:tensorflow:global_step/sec: 404.673\n",
      "INFO:tensorflow:loss = 0.8180641, step = 4300 (0.231 sec)\n",
      "INFO:tensorflow:global_step/sec: 426.23\n",
      "INFO:tensorflow:loss = 0.8100364, step = 4400 (0.235 sec)\n",
      "INFO:tensorflow:global_step/sec: 460.083\n",
      "INFO:tensorflow:loss = 0.8083511, step = 4500 (0.217 sec)\n",
      "INFO:tensorflow:global_step/sec: 421.794\n",
      "INFO:tensorflow:loss = 0.8002678, step = 4600 (0.237 sec)\n",
      "INFO:tensorflow:global_step/sec: 430.942\n",
      "INFO:tensorflow:loss = 0.79603577, step = 4700 (0.232 sec)\n",
      "INFO:tensorflow:global_step/sec: 428.716\n",
      "INFO:tensorflow:loss = 0.7907478, step = 4800 (0.233 sec)\n",
      "INFO:tensorflow:global_step/sec: 457.96\n",
      "INFO:tensorflow:loss = 0.7915767, step = 4900 (0.218 sec)\n",
      "INFO:tensorflow:Calling checkpoint listeners before saving checkpoint 5000...\n",
      "INFO:tensorflow:Saving checkpoints for 5000 into C:\\Users\\NIKSHA~1\\AppData\\Local\\Temp\\tmpqvjmd80b\\model.ckpt.\n",
      "INFO:tensorflow:Calling checkpoint listeners after saving checkpoint 5000...\n",
      "INFO:tensorflow:Loss for final step: 0.77383614.\n"
     ]
    },
    {
     "data": {
      "text/plain": [
       "<tensorflow_estimator.python.estimator.canned.dnn.DNNClassifierV2 at 0x250d028fdf0>"
      ]
     },
     "execution_count": 10,
     "metadata": {},
     "output_type": "execute_result"
    }
   ],
   "source": [
    "classifier.train(input_fn = lambda: input_fn(train, y_train), steps = 5000)\n",
    "# Steps means go through the dataset untill 5000 inputs have been verified"
   ]
  },
  {
   "cell_type": "code",
   "execution_count": 11,
   "id": "631b965b",
   "metadata": {},
   "outputs": [
    {
     "name": "stdout",
     "output_type": "stream",
     "text": [
      "INFO:tensorflow:Calling model_fn.\n",
      "INFO:tensorflow:Done calling model_fn.\n",
      "INFO:tensorflow:Starting evaluation at 2023-06-22T18:34:47\n",
      "WARNING:tensorflow:From c:\\users\\nikshay jain\\appdata\\local\\programs\\python\\python38\\lib\\site-packages\\tensorflow\\python\\training\\evaluation.py:260: FinalOpsHook.__init__ (from tensorflow.python.training.basic_session_run_hooks) is deprecated and will be removed in a future version.\n",
      "Instructions for updating:\n",
      "Use tf.keras instead.\n",
      "INFO:tensorflow:Graph was finalized.\n",
      "INFO:tensorflow:Restoring parameters from C:\\Users\\NIKSHA~1\\AppData\\Local\\Temp\\tmpqvjmd80b\\model.ckpt-5000\n",
      "INFO:tensorflow:Running local_init_op.\n",
      "INFO:tensorflow:Done running local_init_op.\n",
      "INFO:tensorflow:Inference Time : 2.28909s\n",
      "INFO:tensorflow:Finished evaluation at 2023-06-22-18:34:49\n",
      "INFO:tensorflow:Saving dict for global step 5000: accuracy = 0.56666666, average_loss = 0.8210859, global_step = 5000, loss = 0.8210859\n",
      "INFO:tensorflow:Saving 'checkpoint_path' summary for global step 5000: C:\\Users\\NIKSHA~1\\AppData\\Local\\Temp\\tmpqvjmd80b\\model.ckpt-5000\n"
     ]
    }
   ],
   "source": [
    "result = classifier.evaluate(input_fn = lambda: input_fn(test, y_test,training = False))\n",
    "# No steps as model needs to traverse only once and no training mode so no shuffling"
   ]
  },
  {
   "cell_type": "code",
   "execution_count": 12,
   "id": "e5c4e97c",
   "metadata": {},
   "outputs": [
    {
     "data": {
      "text/plain": [
       "{'accuracy': 0.56666666,\n",
       " 'average_loss': 0.8210859,\n",
       " 'loss': 0.8210859,\n",
       " 'global_step': 5000}"
      ]
     },
     "execution_count": 12,
     "metadata": {},
     "output_type": "execute_result"
    }
   ],
   "source": [
    "result"
   ]
  },
  {
   "cell_type": "markdown",
   "id": "d5801a00",
   "metadata": {},
   "source": [
    "### Predict"
   ]
  },
  {
   "cell_type": "code",
   "execution_count": 13,
   "id": "f5a5c88a",
   "metadata": {},
   "outputs": [],
   "source": [
    "def test_input_fn(features, batch_size = 256):\n",
    "    return tf.data.Dataset.from_tensor_slices(dict(features)).batch(batch_size)"
   ]
  },
  {
   "cell_type": "code",
   "execution_count": 14,
   "id": "fbea44a4",
   "metadata": {},
   "outputs": [],
   "source": [
    "col = ['SepalLength','SepalWidth','PetalLength','PetalWidth']\n",
    "species = ['Setosa', 'Versicolor', 'Virginica']\n",
    "pred={}\n",
    "i=0\n",
    "for feature in col:\n",
    "    pred[feature] = [test.loc[0][i]]\n",
    "    i+=1"
   ]
  },
  {
   "cell_type": "code",
   "execution_count": 15,
   "id": "74f12897",
   "metadata": {},
   "outputs": [
    {
     "data": {
      "text/plain": [
       "{'SepalLength': [5.9],\n",
       " 'SepalWidth': [3.0],\n",
       " 'PetalLength': [4.2],\n",
       " 'PetalWidth': [1.5]}"
      ]
     },
     "execution_count": 15,
     "metadata": {},
     "output_type": "execute_result"
    }
   ],
   "source": [
    "pred"
   ]
  },
  {
   "cell_type": "code",
   "execution_count": 16,
   "id": "ebec5e11",
   "metadata": {},
   "outputs": [],
   "source": [
    "prediction = classifier.predict(input_fn = lambda: test_input_fn(pred))"
   ]
  },
  {
   "cell_type": "code",
   "execution_count": 17,
   "id": "34443f50",
   "metadata": {},
   "outputs": [
    {
     "name": "stdout",
     "output_type": "stream",
     "text": [
      "INFO:tensorflow:Calling model_fn.\n",
      "WARNING:tensorflow:From c:\\users\\nikshay jain\\appdata\\local\\programs\\python\\python38\\lib\\site-packages\\tensorflow_estimator\\python\\estimator\\head\\base_head.py:786: ClassificationOutput.__init__ (from tensorflow.python.saved_model.model_utils.export_output) is deprecated and will be removed in a future version.\n",
      "Instructions for updating:\n",
      "Use tf.keras instead.\n",
      "WARNING:tensorflow:From c:\\users\\nikshay jain\\appdata\\local\\programs\\python\\python38\\lib\\site-packages\\tensorflow_estimator\\python\\estimator\\head\\multi_class_head.py:455: PredictOutput.__init__ (from tensorflow.python.saved_model.model_utils.export_output) is deprecated and will be removed in a future version.\n",
      "Instructions for updating:\n",
      "Use tf.keras instead.\n",
      "INFO:tensorflow:Done calling model_fn.\n",
      "INFO:tensorflow:Graph was finalized.\n",
      "INFO:tensorflow:Restoring parameters from C:\\Users\\NIKSHA~1\\AppData\\Local\\Temp\\tmpqvjmd80b\\model.ckpt-5000\n",
      "INFO:tensorflow:Running local_init_op.\n",
      "INFO:tensorflow:Done running local_init_op.\n",
      "Virginica\n"
     ]
    }
   ],
   "source": [
    "for pred_dict in prediction:\n",
    "    class_id = pred_dict['class_ids'][0]\n",
    "    prob = pred_dict['probabilities'][class_id]\n",
    "    print(species[class_id])"
   ]
  },
  {
   "cell_type": "code",
   "execution_count": null,
   "id": "1541314a",
   "metadata": {},
   "outputs": [],
   "source": []
  }
 ],
 "metadata": {
  "kernelspec": {
   "display_name": "Python 3 (ipykernel)",
   "language": "python",
   "name": "python3"
  },
  "language_info": {
   "codemirror_mode": {
    "name": "ipython",
    "version": 3
   },
   "file_extension": ".py",
   "mimetype": "text/x-python",
   "name": "python",
   "nbconvert_exporter": "python",
   "pygments_lexer": "ipython3",
   "version": "3.8.10"
  }
 },
 "nbformat": 4,
 "nbformat_minor": 5
}
