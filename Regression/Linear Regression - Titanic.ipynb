{
 "cells": [
  {
   "cell_type": "markdown",
   "id": "ca90b661",
   "metadata": {},
   "source": [
    "# Core Algorithms"
   ]
  },
  {
   "cell_type": "markdown",
   "id": "49d2e931",
   "metadata": {},
   "source": [
    "## Linear regression - Titanic Dataset"
   ]
  },
  {
   "cell_type": "markdown",
   "id": "e5be4a42",
   "metadata": {},
   "source": [
    "### Analysing the dataset"
   ]
  },
  {
   "cell_type": "code",
   "execution_count": 1,
   "id": "a94c7d62",
   "metadata": {},
   "outputs": [],
   "source": [
    "import numpy as np\n",
    "import pandas as pd\n",
    "import matplotlib.pyplot as plt\n",
    "import tensorflow as tf"
   ]
  },
  {
   "cell_type": "code",
   "execution_count": 2,
   "id": "a27fbcb9",
   "metadata": {},
   "outputs": [],
   "source": [
    "train = pd.read_csv('titanic_train.csv')\n",
    "test = pd.read_csv('titanic_test.csv')\n",
    "\n",
    "#Moves column 'survived' to y_train directly\n",
    "y_train = train.pop('survived')\n",
    "y_test = test.pop('survived')"
   ]
  },
  {
   "cell_type": "code",
   "execution_count": 3,
   "id": "75f334e4",
   "metadata": {},
   "outputs": [
    {
     "data": {
      "text/html": [
       "<div>\n",
       "<style scoped>\n",
       "    .dataframe tbody tr th:only-of-type {\n",
       "        vertical-align: middle;\n",
       "    }\n",
       "\n",
       "    .dataframe tbody tr th {\n",
       "        vertical-align: top;\n",
       "    }\n",
       "\n",
       "    .dataframe thead th {\n",
       "        text-align: right;\n",
       "    }\n",
       "</style>\n",
       "<table border=\"1\" class=\"dataframe\">\n",
       "  <thead>\n",
       "    <tr style=\"text-align: right;\">\n",
       "      <th></th>\n",
       "      <th>sex</th>\n",
       "      <th>age</th>\n",
       "      <th>n_siblings_spouses</th>\n",
       "      <th>parch</th>\n",
       "      <th>fare</th>\n",
       "      <th>class</th>\n",
       "      <th>deck</th>\n",
       "      <th>embark_town</th>\n",
       "      <th>alone</th>\n",
       "    </tr>\n",
       "  </thead>\n",
       "  <tbody>\n",
       "    <tr>\n",
       "      <th>0</th>\n",
       "      <td>male</td>\n",
       "      <td>22.0</td>\n",
       "      <td>1</td>\n",
       "      <td>0</td>\n",
       "      <td>7.2500</td>\n",
       "      <td>Third</td>\n",
       "      <td>unknown</td>\n",
       "      <td>Southampton</td>\n",
       "      <td>n</td>\n",
       "    </tr>\n",
       "    <tr>\n",
       "      <th>1</th>\n",
       "      <td>female</td>\n",
       "      <td>38.0</td>\n",
       "      <td>1</td>\n",
       "      <td>0</td>\n",
       "      <td>71.2833</td>\n",
       "      <td>First</td>\n",
       "      <td>C</td>\n",
       "      <td>Cherbourg</td>\n",
       "      <td>n</td>\n",
       "    </tr>\n",
       "    <tr>\n",
       "      <th>2</th>\n",
       "      <td>female</td>\n",
       "      <td>26.0</td>\n",
       "      <td>0</td>\n",
       "      <td>0</td>\n",
       "      <td>7.9250</td>\n",
       "      <td>Third</td>\n",
       "      <td>unknown</td>\n",
       "      <td>Southampton</td>\n",
       "      <td>y</td>\n",
       "    </tr>\n",
       "    <tr>\n",
       "      <th>3</th>\n",
       "      <td>female</td>\n",
       "      <td>35.0</td>\n",
       "      <td>1</td>\n",
       "      <td>0</td>\n",
       "      <td>53.1000</td>\n",
       "      <td>First</td>\n",
       "      <td>C</td>\n",
       "      <td>Southampton</td>\n",
       "      <td>n</td>\n",
       "    </tr>\n",
       "    <tr>\n",
       "      <th>4</th>\n",
       "      <td>male</td>\n",
       "      <td>28.0</td>\n",
       "      <td>0</td>\n",
       "      <td>0</td>\n",
       "      <td>8.4583</td>\n",
       "      <td>Third</td>\n",
       "      <td>unknown</td>\n",
       "      <td>Queenstown</td>\n",
       "      <td>y</td>\n",
       "    </tr>\n",
       "    <tr>\n",
       "      <th>...</th>\n",
       "      <td>...</td>\n",
       "      <td>...</td>\n",
       "      <td>...</td>\n",
       "      <td>...</td>\n",
       "      <td>...</td>\n",
       "      <td>...</td>\n",
       "      <td>...</td>\n",
       "      <td>...</td>\n",
       "      <td>...</td>\n",
       "    </tr>\n",
       "    <tr>\n",
       "      <th>622</th>\n",
       "      <td>male</td>\n",
       "      <td>28.0</td>\n",
       "      <td>0</td>\n",
       "      <td>0</td>\n",
       "      <td>10.5000</td>\n",
       "      <td>Second</td>\n",
       "      <td>unknown</td>\n",
       "      <td>Southampton</td>\n",
       "      <td>y</td>\n",
       "    </tr>\n",
       "    <tr>\n",
       "      <th>623</th>\n",
       "      <td>male</td>\n",
       "      <td>25.0</td>\n",
       "      <td>0</td>\n",
       "      <td>0</td>\n",
       "      <td>7.0500</td>\n",
       "      <td>Third</td>\n",
       "      <td>unknown</td>\n",
       "      <td>Southampton</td>\n",
       "      <td>y</td>\n",
       "    </tr>\n",
       "    <tr>\n",
       "      <th>624</th>\n",
       "      <td>female</td>\n",
       "      <td>19.0</td>\n",
       "      <td>0</td>\n",
       "      <td>0</td>\n",
       "      <td>30.0000</td>\n",
       "      <td>First</td>\n",
       "      <td>B</td>\n",
       "      <td>Southampton</td>\n",
       "      <td>y</td>\n",
       "    </tr>\n",
       "    <tr>\n",
       "      <th>625</th>\n",
       "      <td>female</td>\n",
       "      <td>28.0</td>\n",
       "      <td>1</td>\n",
       "      <td>2</td>\n",
       "      <td>23.4500</td>\n",
       "      <td>Third</td>\n",
       "      <td>unknown</td>\n",
       "      <td>Southampton</td>\n",
       "      <td>n</td>\n",
       "    </tr>\n",
       "    <tr>\n",
       "      <th>626</th>\n",
       "      <td>male</td>\n",
       "      <td>32.0</td>\n",
       "      <td>0</td>\n",
       "      <td>0</td>\n",
       "      <td>7.7500</td>\n",
       "      <td>Third</td>\n",
       "      <td>unknown</td>\n",
       "      <td>Queenstown</td>\n",
       "      <td>y</td>\n",
       "    </tr>\n",
       "  </tbody>\n",
       "</table>\n",
       "<p>627 rows × 9 columns</p>\n",
       "</div>"
      ],
      "text/plain": [
       "        sex   age  n_siblings_spouses  parch     fare   class     deck  \\\n",
       "0      male  22.0                   1      0   7.2500   Third  unknown   \n",
       "1    female  38.0                   1      0  71.2833   First        C   \n",
       "2    female  26.0                   0      0   7.9250   Third  unknown   \n",
       "3    female  35.0                   1      0  53.1000   First        C   \n",
       "4      male  28.0                   0      0   8.4583   Third  unknown   \n",
       "..      ...   ...                 ...    ...      ...     ...      ...   \n",
       "622    male  28.0                   0      0  10.5000  Second  unknown   \n",
       "623    male  25.0                   0      0   7.0500   Third  unknown   \n",
       "624  female  19.0                   0      0  30.0000   First        B   \n",
       "625  female  28.0                   1      2  23.4500   Third  unknown   \n",
       "626    male  32.0                   0      0   7.7500   Third  unknown   \n",
       "\n",
       "     embark_town alone  \n",
       "0    Southampton     n  \n",
       "1      Cherbourg     n  \n",
       "2    Southampton     y  \n",
       "3    Southampton     n  \n",
       "4     Queenstown     y  \n",
       "..           ...   ...  \n",
       "622  Southampton     y  \n",
       "623  Southampton     y  \n",
       "624  Southampton     y  \n",
       "625  Southampton     n  \n",
       "626   Queenstown     y  \n",
       "\n",
       "[627 rows x 9 columns]"
      ]
     },
     "execution_count": 3,
     "metadata": {},
     "output_type": "execute_result"
    }
   ],
   "source": [
    "train"
   ]
  },
  {
   "cell_type": "code",
   "execution_count": 4,
   "id": "76c77323",
   "metadata": {},
   "outputs": [
    {
     "data": {
      "text/plain": [
       "<Axes: >"
      ]
     },
     "execution_count": 4,
     "metadata": {},
     "output_type": "execute_result"
    },
    {
     "data": {
      "image/png": "[encoded data removed]",
      "text/plain": [
       "<Figure size 640x480 with 1 Axes>"
      ]
     },
     "metadata": {},
     "output_type": "display_data"
    }
   ],
   "source": [
    "#dataset.column.hist(bins = no of bars needed)\n",
    "train.age.hist(bins=20)\n",
    "\n",
    "#Majority passengers are males, 25-30 years of age"
   ]
  },
  {
   "cell_type": "code",
   "execution_count": 5,
   "id": "775849eb",
   "metadata": {},
   "outputs": [
    {
     "data": {
      "text/plain": [
       "<Axes: ylabel='sex'>"
      ]
     },
     "execution_count": 5,
     "metadata": {},
     "output_type": "execute_result"
    },
    {
     "data": {
      "image/png": "[encoded data removed]",
      "text/plain": [
       "<Figure size 640x480 with 1 Axes>"
      ]
     },
     "metadata": {},
     "output_type": "display_data"
    }
   ],
   "source": [
    "# Horizontal bar plot for classified values\n",
    "train.sex.value_counts().plot(kind='barh')"
   ]
  },
  {
   "cell_type": "code",
   "execution_count": 6,
   "id": "d2dc1b39",
   "metadata": {},
   "outputs": [
    {
     "name": "stdout",
     "output_type": "stream",
     "text": [
      "['Southampton' 'Cherbourg' 'Queenstown' 'unknown']\n"
     ]
    },
    {
     "data": {
      "text/plain": [
       "<Axes: ylabel='count'>"
      ]
     },
     "execution_count": 6,
     "metadata": {},
     "output_type": "execute_result"
    },
    {
     "data": {
      "image/png": "[encoded data removed]",
      "text/plain": [
       "<Figure size 640x480 with 1 Axes>"
      ]
     },
     "metadata": {},
     "output_type": "display_data"
    }
   ],
   "source": [
    "print(train.embark_town.unique())\n",
    "train.embark_town.value_counts().plot(kind='pie')"
   ]
  },
  {
   "cell_type": "code",
   "execution_count": 7,
   "id": "81460466",
   "metadata": {},
   "outputs": [
    {
     "data": {
      "text/plain": [
       "<Axes: ylabel='class'>"
      ]
     },
     "execution_count": 7,
     "metadata": {},
     "output_type": "execute_result"
    },
    {
     "data": {
      "image/png": "[encoded data removed]",
      "text/plain": [
       "<Figure size 640x480 with 1 Axes>"
      ]
     },
     "metadata": {},
     "output_type": "display_data"
    }
   ],
   "source": [
    "train['class'].value_counts().plot(kind = 'barh')"
   ]
  },
  {
   "cell_type": "code",
   "execution_count": 8,
   "id": "66598d0b",
   "metadata": {},
   "outputs": [
    {
     "data": {
      "text/plain": [
       "sex\n",
       "female    0.778802\n",
       "male      0.180488\n",
       "Name: survived, dtype: float64"
      ]
     },
     "execution_count": 8,
     "metadata": {},
     "output_type": "execute_result"
    },
    {
     "data": {
      "image/png": "[encoded data removed]",
      "text/plain": [
       "<Figure size 640x480 with 1 Axes>"
      ]
     },
     "metadata": {},
     "output_type": "display_data"
    }
   ],
   "source": [
    "pd.concat([train,y_train],axis=1).groupby('sex').survived.mean().plot(kind='barh').set_xlabel('% survive')\n",
    "pd.concat([train,y_train],axis=1).groupby('sex').survived.mean()"
   ]
  },
  {
   "cell_type": "markdown",
   "id": "4b68875f",
   "metadata": {},
   "source": [
    "<!-- # Majority of passengers are male, age: 20-30s, third class.\n",
    "# Chances of survival of females is higher -->"
   ]
  },
  {
   "cell_type": "markdown",
   "id": "6b0a9f9b",
   "metadata": {},
   "source": [
    "### Creating the feature columns for the model"
   ]
  },
  {
   "cell_type": "code",
   "execution_count": 9,
   "id": "e34a1ccb",
   "metadata": {},
   "outputs": [
    {
     "name": "stdout",
     "output_type": "stream",
     "text": [
      "WARNING:tensorflow:From C:\\Users\\Nikshay Jain\\AppData\\Local\\Temp\\ipykernel_12784\\2538534337.py:8: categorical_column_with_vocabulary_list (from tensorflow.python.feature_column.feature_column_v2) is deprecated and will be removed in a future version.\n",
      "Instructions for updating:\n",
      "Use Keras preprocessing layers instead, either directly or via the `tf.keras.utils.FeatureSpace` utility. Each of `tf.feature_column.*` has a functional equivalent in `tf.keras.layers` for feature preprocessing when training a Keras model.\n",
      "WARNING:tensorflow:From C:\\Users\\Nikshay Jain\\AppData\\Local\\Temp\\ipykernel_12784\\2538534337.py:11: numeric_column (from tensorflow.python.feature_column.feature_column_v2) is deprecated and will be removed in a future version.\n",
      "Instructions for updating:\n",
      "Use Keras preprocessing layers instead, either directly or via the `tf.keras.utils.FeatureSpace` utility. Each of `tf.feature_column.*` has a functional equivalent in `tf.keras.layers` for feature preprocessing when training a Keras model.\n",
      "[VocabularyListCategoricalColumn(key='sex', vocabulary_list=('male', 'female'), dtype=tf.string, default_value=-1, num_oov_buckets=0), VocabularyListCategoricalColumn(key='n_siblings_spouses', vocabulary_list=(1, 0, 3, 4, 2, 5, 8), dtype=tf.int64, default_value=-1, num_oov_buckets=0), VocabularyListCategoricalColumn(key='parch', vocabulary_list=(0, 1, 2, 5, 3, 4), dtype=tf.int64, default_value=-1, num_oov_buckets=0), VocabularyListCategoricalColumn(key='class', vocabulary_list=('Third', 'First', 'Second'), dtype=tf.string, default_value=-1, num_oov_buckets=0), VocabularyListCategoricalColumn(key='deck', vocabulary_list=('unknown', 'C', 'G', 'A', 'B', 'D', 'F', 'E'), dtype=tf.string, default_value=-1, num_oov_buckets=0), VocabularyListCategoricalColumn(key='embark_town', vocabulary_list=('Southampton', 'Cherbourg', 'Queenstown', 'unknown'), dtype=tf.string, default_value=-1, num_oov_buckets=0), VocabularyListCategoricalColumn(key='alone', vocabulary_list=('n', 'y'), dtype=tf.string, default_value=-1, num_oov_buckets=0), NumericColumn(key='age', shape=(1,), default_value=None, dtype=tf.float32, normalizer_fn=None), NumericColumn(key='fare', shape=(1,), default_value=None, dtype=tf.float32, normalizer_fn=None)]\n"
     ]
    }
   ],
   "source": [
    "columns = train.columns.to_numpy()     #array(['sex', 'age', 'n_siblings_spouses', 'parch', 'fare', 'class', 'deck', 'embark_town', 'alone'], dtype=object)\n",
    "categorial_columns = ['sex', 'n_siblings_spouses', 'parch', 'class', 'deck', 'embark_town', 'alone']\n",
    "numeric_columns = ['age','fare']\n",
    "feature_columns = []\n",
    "\n",
    "for feature in categorial_columns:\n",
    "    vocab = train[feature].unique()               #gets the unique values in the columns\n",
    "    feature_columns.append(tf.feature_column.categorical_column_with_vocabulary_list(feature,vocab))\n",
    "    \n",
    "for feature in numeric_columns:\n",
    "    feature_columns.append(tf.feature_column.numeric_column(feature))\n",
    "\n",
    "print(feature_columns)"
   ]
  },
  {
   "cell_type": "markdown",
   "id": "15302952",
   "metadata": {},
   "source": [
    "### Input function\n",
    "We classify the data into batches called Epochs and then pass it batchwise so that the model sees the same type of data many times and learns to predict it.\n",
    "The input function needs data in form of $\\textbf{tf.data.Dataset}$ object and not as pandas so convert that."
   ]
  },
  {
   "cell_type": "code",
   "execution_count": 10,
   "id": "1afb09ae",
   "metadata": {},
   "outputs": [],
   "source": [
    "def make_input_fn(data_df, label_df, epochs = 10, shuffle = True, batch_size=32):\n",
    "    def input_fn():\n",
    "        ds = tf.data.Dataset.from_tensor_slices((dict(data_df),label_df))    #transforms pandas dataframe to tf.data.Dataset using input parameters and the y-labels.\n",
    "        if shuffle:\n",
    "            ds = ds.shuffle(1000)                                             #shuffles the data set\n",
    "        ds = ds.batch(batch_size).repeat(epochs)                              #splits dataset into batches and repeats the process epoch no of times\n",
    "        return ds\n",
    "    return input_fn                                                           #returns the function object itself"
   ]
  },
  {
   "cell_type": "code",
   "execution_count": 11,
   "id": "2680b20b",
   "metadata": {},
   "outputs": [],
   "source": [
    "train_input_fn = make_input_fn(train, y_train)                            #trains the data set\n",
    "eval_input_fn = make_input_fn(test, y_test, epochs=1, shuffle = False)    #passing test data so no need to shuffle or have mult epochs"
   ]
  },
  {
   "cell_type": "markdown",
   "id": "602ee34b",
   "metadata": {},
   "source": [
    "### Creating the model"
   ]
  },
  {
   "cell_type": "code",
   "execution_count": 12,
   "id": "409a58d8",
   "metadata": {},
   "outputs": [
    {
     "name": "stdout",
     "output_type": "stream",
     "text": [
      "WARNING:tensorflow:From C:\\Users\\Nikshay Jain\\AppData\\Local\\Temp\\ipykernel_12784\\3095601636.py:1: LinearClassifierV2.__init__ (from tensorflow_estimator.python.estimator.canned.linear) is deprecated and will be removed in a future version.\n",
      "Instructions for updating:\n",
      "Use tf.keras instead.\n",
      "WARNING:tensorflow:From c:\\users\\nikshay jain\\appdata\\local\\programs\\python\\python38\\lib\\site-packages\\tensorflow_estimator\\python\\estimator\\head\\head_utils.py:54: BinaryClassHead.__init__ (from tensorflow_estimator.python.estimator.head.binary_class_head) is deprecated and will be removed in a future version.\n",
      "Instructions for updating:\n",
      "Use tf.keras instead.\n",
      "WARNING:tensorflow:From c:\\users\\nikshay jain\\appdata\\local\\programs\\python\\python38\\lib\\site-packages\\tensorflow_estimator\\python\\estimator\\canned\\linear.py:944: Estimator.__init__ (from tensorflow_estimator.python.estimator.estimator) is deprecated and will be removed in a future version.\n",
      "Instructions for updating:\n",
      "Use tf.keras instead.\n",
      "WARNING:tensorflow:From c:\\users\\nikshay jain\\appdata\\local\\programs\\python\\python38\\lib\\site-packages\\tensorflow_estimator\\python\\estimator\\estimator.py:1842: RunConfig.__init__ (from tensorflow_estimator.python.estimator.run_config) is deprecated and will be removed in a future version.\n",
      "Instructions for updating:\n",
      "Use tf.keras instead.\n",
      "INFO:tensorflow:Using default config.\n",
      "WARNING:tensorflow:Using temporary folder as model directory: C:\\Users\\NIKSHA~1\\AppData\\Local\\Temp\\tmp2a8iwftd\n",
      "INFO:tensorflow:Using config: {'_model_dir': 'C:\\\\Users\\\\NIKSHA~1\\\\AppData\\\\Local\\\\Temp\\\\tmp2a8iwftd', '_tf_random_seed': None, '_save_summary_steps': 100, '_save_checkpoints_steps': None, '_save_checkpoints_secs': 600, '_session_config': allow_soft_placement: true\n",
      "graph_options {\n",
      "  rewrite_options {\n",
      "    meta_optimizer_iterations: ONE\n",
      "  }\n",
      "}\n",
      ", '_keep_checkpoint_max': 5, '_keep_checkpoint_every_n_hours': 10000, '_log_step_count_steps': 100, '_train_distribute': None, '_device_fn': None, '_protocol': None, '_eval_distribute': None, '_experimental_distribute': None, '_experimental_max_worker_delay_secs': None, '_session_creation_timeout_secs': 7200, '_checkpoint_save_graph_def': True, '_service': None, '_cluster_spec': ClusterSpec({}), '_task_type': 'worker', '_task_id': 0, '_global_id_in_cluster': 0, '_master': '', '_evaluation_master': '', '_is_chief': True, '_num_ps_replicas': 0, '_num_worker_replicas': 1}\n"
     ]
    }
   ],
   "source": [
    "lin_est = tf.estimator.LinearClassifier(feature_columns = feature_columns)     #estimator is the basic implementation of algos"
   ]
  },
  {
   "cell_type": "markdown",
   "id": "7bff7148",
   "metadata": {},
   "source": [
    "### Training and evaluating the model"
   ]
  },
  {
   "cell_type": "code",
   "execution_count": 13,
   "id": "c9362c29",
   "metadata": {},
   "outputs": [
    {
     "name": "stdout",
     "output_type": "stream",
     "text": [
      "WARNING:tensorflow:From c:\\users\\nikshay jain\\appdata\\local\\programs\\python\\python38\\lib\\site-packages\\tensorflow\\python\\training\\training_util.py:396: Variable.initialized_value (from tensorflow.python.ops.variables) is deprecated and will be removed in a future version.\n",
      "Instructions for updating:\n",
      "Use Variable.read_value. Variables in 2.X are initialized automatically both in eager and graph (inside tf.defun) contexts.\n",
      "INFO:tensorflow:Calling model_fn.\n",
      "WARNING:tensorflow:From c:\\users\\nikshay jain\\appdata\\local\\programs\\python\\python38\\lib\\site-packages\\keras\\optimizers\\legacy\\ftrl.py:173: calling Constant.__init__ (from tensorflow.python.ops.init_ops) with dtype is deprecated and will be removed in a future version.\n",
      "Instructions for updating:\n",
      "Call initializer instance with the dtype argument instead of passing it to the constructor\n",
      "WARNING:tensorflow:From c:\\users\\nikshay jain\\appdata\\local\\programs\\python\\python38\\lib\\site-packages\\tensorflow_estimator\\python\\estimator\\model_fn.py:250: EstimatorSpec.__new__ (from tensorflow_estimator.python.estimator.model_fn) is deprecated and will be removed in a future version.\n",
      "Instructions for updating:\n",
      "Use tf.keras instead.\n",
      "INFO:tensorflow:Done calling model_fn.\n",
      "WARNING:tensorflow:From c:\\users\\nikshay jain\\appdata\\local\\programs\\python\\python38\\lib\\site-packages\\tensorflow_estimator\\python\\estimator\\estimator.py:1414: NanTensorHook.__init__ (from tensorflow.python.training.basic_session_run_hooks) is deprecated and will be removed in a future version.\n",
      "Instructions for updating:\n",
      "Use tf.keras instead.\n",
      "WARNING:tensorflow:From c:\\users\\nikshay jain\\appdata\\local\\programs\\python\\python38\\lib\\site-packages\\tensorflow_estimator\\python\\estimator\\estimator.py:1417: LoggingTensorHook.__init__ (from tensorflow.python.training.basic_session_run_hooks) is deprecated and will be removed in a future version.\n",
      "Instructions for updating:\n",
      "Use tf.keras instead.\n",
      "WARNING:tensorflow:From c:\\users\\nikshay jain\\appdata\\local\\programs\\python\\python38\\lib\\site-packages\\tensorflow\\python\\training\\basic_session_run_hooks.py:232: SecondOrStepTimer.__init__ (from tensorflow.python.training.basic_session_run_hooks) is deprecated and will be removed in a future version.\n",
      "Instructions for updating:\n",
      "Use tf.keras instead.\n",
      "WARNING:tensorflow:From c:\\users\\nikshay jain\\appdata\\local\\programs\\python\\python38\\lib\\site-packages\\tensorflow_estimator\\python\\estimator\\estimator.py:1454: CheckpointSaverHook.__init__ (from tensorflow.python.training.basic_session_run_hooks) is deprecated and will be removed in a future version.\n",
      "Instructions for updating:\n",
      "Use tf.keras instead.\n",
      "INFO:tensorflow:Create CheckpointSaverHook.\n",
      "WARNING:tensorflow:From c:\\users\\nikshay jain\\appdata\\local\\programs\\python\\python38\\lib\\site-packages\\tensorflow\\python\\training\\monitored_session.py:579: StepCounterHook.__init__ (from tensorflow.python.training.basic_session_run_hooks) is deprecated and will be removed in a future version.\n",
      "Instructions for updating:\n",
      "Use tf.keras instead.\n",
      "WARNING:tensorflow:From c:\\users\\nikshay jain\\appdata\\local\\programs\\python\\python38\\lib\\site-packages\\tensorflow\\python\\training\\monitored_session.py:586: SummarySaverHook.__init__ (from tensorflow.python.training.basic_session_run_hooks) is deprecated and will be removed in a future version.\n",
      "Instructions for updating:\n",
      "Use tf.keras instead.\n",
      "INFO:tensorflow:Graph was finalized.\n",
      "INFO:tensorflow:Running local_init_op.\n",
      "INFO:tensorflow:Done running local_init_op.\n",
      "INFO:tensorflow:Calling checkpoint listeners before saving checkpoint 0...\n",
      "INFO:tensorflow:Saving checkpoints for 0 into C:\\Users\\NIKSHA~1\\AppData\\Local\\Temp\\tmp2a8iwftd\\model.ckpt.\n",
      "INFO:tensorflow:Calling checkpoint listeners after saving checkpoint 0...\n",
      "WARNING:tensorflow:From c:\\users\\nikshay jain\\appdata\\local\\programs\\python\\python38\\lib\\site-packages\\tensorflow\\python\\training\\monitored_session.py:1455: SessionRunArgs.__new__ (from tensorflow.python.training.session_run_hook) is deprecated and will be removed in a future version.\n",
      "Instructions for updating:\n",
      "Use tf.keras instead.\n",
      "WARNING:tensorflow:From c:\\users\\nikshay jain\\appdata\\local\\programs\\python\\python38\\lib\\site-packages\\tensorflow\\python\\training\\monitored_session.py:1454: SessionRunContext.__init__ (from tensorflow.python.training.session_run_hook) is deprecated and will be removed in a future version.\n",
      "Instructions for updating:\n",
      "Use tf.keras instead.\n",
      "WARNING:tensorflow:From c:\\users\\nikshay jain\\appdata\\local\\programs\\python\\python38\\lib\\site-packages\\tensorflow\\python\\training\\monitored_session.py:1474: SessionRunValues.__new__ (from tensorflow.python.training.session_run_hook) is deprecated and will be removed in a future version.\n",
      "Instructions for updating:\n",
      "Use tf.keras instead.\n",
      "INFO:tensorflow:loss = 0.6931472, step = 0\n",
      "INFO:tensorflow:global_step/sec: 151.325\n",
      "INFO:tensorflow:loss = 0.36565444, step = 100 (0.661 sec)\n",
      "INFO:tensorflow:Calling checkpoint listeners before saving checkpoint 200...\n",
      "INFO:tensorflow:Saving checkpoints for 200 into C:\\Users\\NIKSHA~1\\AppData\\Local\\Temp\\tmp2a8iwftd\\model.ckpt.\n",
      "INFO:tensorflow:Calling checkpoint listeners after saving checkpoint 200...\n",
      "INFO:tensorflow:Loss for final step: 0.53938633.\n"
     ]
    },
    {
     "data": {
      "text/plain": [
       "<tensorflow_estimator.python.estimator.canned.linear.LinearClassifierV2 at 0x29d4e4b6700>"
      ]
     },
     "execution_count": 13,
     "metadata": {},
     "output_type": "execute_result"
    }
   ],
   "source": [
    "lin_est.train(train_input_fn)"
   ]
  },
  {
   "cell_type": "code",
   "execution_count": 14,
   "id": "58b88ebb",
   "metadata": {},
   "outputs": [
    {
     "name": "stdout",
     "output_type": "stream",
     "text": [
      "INFO:tensorflow:Calling model_fn.\n",
      "INFO:tensorflow:Done calling model_fn.\n",
      "INFO:tensorflow:Starting evaluation at 2023-06-22T18:37:56\n",
      "WARNING:tensorflow:From c:\\users\\nikshay jain\\appdata\\local\\programs\\python\\python38\\lib\\site-packages\\tensorflow\\python\\training\\evaluation.py:260: FinalOpsHook.__init__ (from tensorflow.python.training.basic_session_run_hooks) is deprecated and will be removed in a future version.\n",
      "Instructions for updating:\n",
      "Use tf.keras instead.\n",
      "INFO:tensorflow:Graph was finalized.\n",
      "INFO:tensorflow:Restoring parameters from C:\\Users\\NIKSHA~1\\AppData\\Local\\Temp\\tmp2a8iwftd\\model.ckpt-200\n",
      "INFO:tensorflow:Running local_init_op.\n",
      "INFO:tensorflow:Done running local_init_op.\n",
      "INFO:tensorflow:Inference Time : 1.35714s\n",
      "INFO:tensorflow:Finished evaluation at 2023-06-22-18:37:58\n",
      "INFO:tensorflow:Saving dict for global step 200: accuracy = 0.7462121, accuracy_baseline = 0.625, auc = 0.83437407, auc_precision_recall = 0.79232705, average_loss = 0.48261467, global_step = 200, label/mean = 0.375, loss = 0.47557735, precision = 0.6509434, prediction/mean = 0.42106405, recall = 0.6969697\n",
      "INFO:tensorflow:Saving 'checkpoint_path' summary for global step 200: C:\\Users\\NIKSHA~1\\AppData\\Local\\Temp\\tmp2a8iwftd\\model.ckpt-200\n"
     ]
    },
    {
     "data": {
      "text/plain": [
       "{'accuracy': 0.7462121,\n",
       " 'accuracy_baseline': 0.625,\n",
       " 'auc': 0.83437407,\n",
       " 'auc_precision_recall': 0.79232705,\n",
       " 'average_loss': 0.48261467,\n",
       " 'label/mean': 0.375,\n",
       " 'loss': 0.47557735,\n",
       " 'precision': 0.6509434,\n",
       " 'prediction/mean': 0.42106405,\n",
       " 'recall': 0.6969697,\n",
       " 'global_step': 200}"
      ]
     },
     "execution_count": 14,
     "metadata": {},
     "output_type": "execute_result"
    }
   ],
   "source": [
    "result = lin_est.evaluate(eval_input_fn)\n",
    "result"
   ]
  },
  {
   "cell_type": "code",
   "execution_count": 15,
   "id": "0e3a30eb",
   "metadata": {},
   "outputs": [
    {
     "name": "stdout",
     "output_type": "stream",
     "text": [
      "0.7462121\n"
     ]
    }
   ],
   "source": [
    "print(result['accuracy'])"
   ]
  },
  {
   "cell_type": "code",
   "execution_count": 16,
   "id": "e00d7125",
   "metadata": {},
   "outputs": [
    {
     "name": "stdout",
     "output_type": "stream",
     "text": [
      "INFO:tensorflow:Calling model_fn.\n",
      "WARNING:tensorflow:From c:\\users\\nikshay jain\\appdata\\local\\programs\\python\\python38\\lib\\site-packages\\tensorflow_estimator\\python\\estimator\\head\\base_head.py:786: ClassificationOutput.__init__ (from tensorflow.python.saved_model.model_utils.export_output) is deprecated and will be removed in a future version.\n",
      "Instructions for updating:\n",
      "Use tf.keras instead.\n",
      "WARNING:tensorflow:From c:\\users\\nikshay jain\\appdata\\local\\programs\\python\\python38\\lib\\site-packages\\tensorflow_estimator\\python\\estimator\\head\\binary_class_head.py:561: RegressionOutput.__init__ (from tensorflow.python.saved_model.model_utils.export_output) is deprecated and will be removed in a future version.\n",
      "Instructions for updating:\n",
      "Use tf.keras instead.\n",
      "WARNING:tensorflow:From c:\\users\\nikshay jain\\appdata\\local\\programs\\python\\python38\\lib\\site-packages\\tensorflow_estimator\\python\\estimator\\head\\binary_class_head.py:563: PredictOutput.__init__ (from tensorflow.python.saved_model.model_utils.export_output) is deprecated and will be removed in a future version.\n",
      "Instructions for updating:\n",
      "Use tf.keras instead.\n",
      "INFO:tensorflow:Done calling model_fn.\n",
      "INFO:tensorflow:Graph was finalized.\n",
      "INFO:tensorflow:Restoring parameters from C:\\Users\\NIKSHA~1\\AppData\\Local\\Temp\\tmp2a8iwftd\\model.ckpt-200\n",
      "INFO:tensorflow:Running local_init_op.\n",
      "INFO:tensorflow:Done running local_init_op.\n",
      "\n",
      "Probab Died, Probab Survived\n",
      "[0.9111909  0.08880908]\n",
      "[0.51409113 0.48590884]\n",
      "[0.19411887 0.8058811 ]\n",
      "[0.29455277 0.70544726]\n",
      "[0.6778672  0.32213274]\n",
      "[0.24770291 0.7522971 ]\n",
      "[0.39578992 0.60421014]\n",
      "[0.88256973 0.11743033]\n",
      "[0.35996273 0.6400373 ]\n",
      "[0.26502725 0.7349727 ]\n",
      "[0.3061449 0.6938551]\n",
      "[0.8829089  0.11709117]\n",
      "[0.12845068 0.8715493 ]\n",
      "[0.54987603 0.45012397]\n",
      "[0.13677299 0.863227  ]\n",
      "[0.37270468 0.6272953 ]\n",
      "[0.81150997 0.18848999]\n",
      "[0.16162747 0.8383725 ]\n",
      "[0.5756704  0.42432955]\n",
      "[0.89978707 0.10021286]\n",
      "[0.880516   0.11948404]\n",
      "[0.8991968 0.1008032]\n",
      "[0.3267242 0.6732758]\n",
      "[0.9165971  0.08340287]\n",
      "[0.31107876 0.6889212 ]\n",
      "[0.37838992 0.62161005]\n",
      "[0.6708911 0.3291089]\n",
      "[0.50609064 0.49390933]\n",
      "[0.76686335 0.23313662]\n",
      "[0.12883708 0.8711629 ]\n",
      "[0.8484821  0.15151796]\n",
      "[0.16744952 0.83255047]\n",
      "[0.77629584 0.22370414]\n",
      "[0.31321955 0.68678045]\n",
      "[0.6625082  0.33749178]\n",
      "[0.8960164  0.10398354]\n",
      "[0.7771084  0.22289163]\n",
      "[0.83509576 0.16490427]\n",
      "[0.05896268 0.9410373 ]\n",
      "[0.9017742  0.09822579]\n",
      "[0.23083512 0.7691649 ]\n",
      "[0.87750983 0.1224901 ]\n",
      "[0.4824487 0.5175513]\n",
      "[0.68713915 0.31286085]\n",
      "[0.7077266 0.2922735]\n",
      "[0.2077717  0.79222834]\n",
      "[0.88273937 0.11726062]\n",
      "[0.57785684 0.4221431 ]\n",
      "[0.53816855 0.46183145]\n",
      "[0.5003775 0.4996225]\n",
      "[0.87731594 0.12268409]\n",
      "[0.7522796  0.24772039]\n",
      "[0.9249964  0.07500362]\n",
      "[0.8817864  0.11821361]\n",
      "[0.87547845 0.12452155]\n",
      "[0.8905917  0.10940827]\n",
      "[0.7950074  0.20499262]\n",
      "[0.02203012 0.9779699 ]\n",
      "[0.7839231 0.2160769]\n",
      "[0.89794976 0.10205022]\n",
      "[0.5060626 0.4939374]\n",
      "[0.39384905 0.606151  ]\n",
      "[0.7781194  0.22188056]\n",
      "[0.15838088 0.84161913]\n",
      "[0.79671836 0.20328161]\n",
      "[0.3462096 0.6537904]\n",
      "[0.4532634  0.54673666]\n",
      "[0.8451822  0.15481786]\n",
      "[0.803883  0.1961169]\n",
      "[0.30461305 0.6953869 ]\n",
      "[0.03751523 0.9624847 ]\n",
      "[0.3828854 0.6171146]\n",
      "[0.93989724 0.06010283]\n",
      "[0.8778821  0.12211789]\n",
      "[0.8471857 0.1528143]\n",
      "[0.900078   0.09992198]\n",
      "[0.88506025 0.11493981]\n",
      "[0.83509576 0.16490427]\n",
      "[0.27856186 0.72143817]\n",
      "[0.01577029 0.98422974]\n",
      "[0.33803457 0.66196537]\n",
      "[0.54987603 0.45012397]\n",
      "[0.820577   0.17942296]\n",
      "[0.01658578 0.98341423]\n",
      "[0.8883292  0.11167087]\n",
      "[0.2040415  0.79595846]\n",
      "[0.35102272 0.6489773 ]\n",
      "[0.867137   0.13286297]\n",
      "[0.16371147 0.8362886 ]\n",
      "[0.12381174 0.8761883 ]\n",
      "[0.0238386 0.9761614]\n",
      "[0.7346474  0.26535264]\n",
      "[0.8933362  0.10666385]\n",
      "[0.00971754 0.9902824 ]\n",
      "[0.49360538 0.5063947 ]\n",
      "[0.01530752 0.98469245]\n",
      "[0.8004099  0.19959006]\n",
      "[0.92243296 0.07756708]\n",
      "[0.8855489  0.11445107]\n",
      "[0.63275474 0.36724532]\n",
      "[0.90269905 0.09730096]\n",
      "[0.2279927 0.7720073]\n",
      "[0.20627244 0.7937275 ]\n",
      "[0.36953628 0.63046366]\n",
      "[0.3327968  0.66720325]\n",
      "[0.8152667  0.18473327]\n",
      "[0.189315 0.810685]\n",
      "[0.10285438 0.8971457 ]\n",
      "[0.22157796 0.77842206]\n",
      "[0.92581606 0.07418392]\n",
      "[0.19313352 0.80686647]\n",
      "[0.31586355 0.68413645]\n",
      "[0.31896284 0.6810372 ]\n",
      "[0.9363109  0.06368913]\n",
      "[0.04386924 0.9561307 ]\n",
      "[0.30970648 0.69029355]\n",
      "[0.8999938  0.10000625]\n",
      "[0.31412268 0.6858774 ]\n",
      "[0.89872277 0.10127725]\n",
      "[0.16437282 0.8356272 ]\n",
      "[0.38276947 0.61723053]\n",
      "[0.88975376 0.11024623]\n",
      "[0.36186752 0.63813245]\n",
      "[0.13942653 0.8605735 ]\n",
      "[0.8802863  0.11971368]\n",
      "[0.89776444 0.10223556]\n",
      "[0.28649703 0.71350294]\n",
      "[0.8729247  0.12707533]\n",
      "[0.8526556  0.14734438]\n",
      "[0.81476724 0.18523276]\n",
      "[0.91582566 0.08417426]\n",
      "[0.32531002 0.67468995]\n",
      "[0.88555926 0.11444075]\n",
      "[0.93473256 0.06526738]\n",
      "[0.9017742  0.09822579]\n",
      "[0.883652   0.11634801]\n",
      "[0.7691181  0.23088185]\n",
      "[0.82135695 0.17864305]\n",
      "[0.03385866 0.96614134]\n",
      "[0.8889668  0.11103325]\n",
      "[0.8896357  0.11036432]\n",
      "[0.30648133 0.6935187 ]\n",
      "[0.02775903 0.972241  ]\n",
      "[0.8789919  0.12100817]\n",
      "[0.87537056 0.1246294 ]\n",
      "[0.89776444 0.10223556]\n",
      "[0.49784058 0.5021595 ]\n",
      "[0.84711224 0.1528877 ]\n",
      "[0.83484596 0.16515408]\n",
      "[0.91825247 0.08174757]\n",
      "[0.8348383  0.16516165]\n",
      "[0.88974065 0.11025943]\n",
      "[0.7699737  0.23002626]\n",
      "[0.8300817  0.16991831]\n",
      "[0.605855   0.39414504]\n",
      "[0.8156225  0.18437748]\n",
      "[0.8226682  0.17733173]\n",
      "[0.7865674  0.21343262]\n",
      "[0.36062658 0.6393734 ]\n",
      "[0.8348383  0.16516165]\n",
      "[0.3061449 0.6938551]\n",
      "[0.86852634 0.13147368]\n",
      "[0.043247   0.95675296]\n",
      "[0.22426045 0.7757395 ]\n",
      "[0.9057831  0.09421684]\n",
      "[0.02559818 0.97440183]\n",
      "[0.84794915 0.15205085]\n",
      "[0.8321403  0.16785966]\n",
      "[0.03014512 0.96985495]\n",
      "[0.8848545  0.11514554]\n",
      "[0.18836567 0.81163436]\n",
      "[0.89794976 0.10205022]\n",
      "[0.6389606  0.36103943]\n",
      "[0.92610663 0.07389337]\n",
      "[0.8729247  0.12707533]\n",
      "[0.32214764 0.67785233]\n",
      "[0.07408282 0.9259172 ]\n",
      "[0.8148873  0.18511266]\n",
      "[0.50685394 0.493146  ]\n",
      "[0.8828354 0.1171646]\n",
      "[0.8711863  0.12881368]\n",
      "[0.75520235 0.24479769]\n",
      "[0.7462876  0.25371248]\n",
      "[0.02375731 0.97624266]\n",
      "[0.42640874 0.57359123]\n",
      "[0.87809867 0.12190142]\n",
      "[0.5624269  0.43757308]\n",
      "[0.30592448 0.6940755 ]\n",
      "[0.2635817 0.7364183]\n",
      "[0.7684789  0.23152113]\n",
      "[0.36076194 0.63923806]\n",
      "[0.86843276 0.13156727]\n",
      "[0.72247833 0.27752167]\n",
      "[0.07978092 0.920219  ]\n",
      "[0.90699536 0.09300464]\n",
      "[0.8903977  0.10960226]\n",
      "[0.3496498 0.6503502]\n",
      "[0.30506718 0.6949328 ]\n",
      "[0.62969303 0.37030703]\n",
      "[0.8865589  0.11344106]\n",
      "[0.8254428  0.17455721]\n",
      "[0.8627078  0.13729222]\n",
      "[0.92610663 0.07389337]\n",
      "[0.88351554 0.11648444]\n",
      "[0.00394567 0.9960543 ]\n",
      "[0.1963931  0.80360687]\n",
      "[0.89181584 0.1081842 ]\n",
      "[0.25674713 0.74325293]\n",
      "[0.5311506  0.46884936]\n",
      "[0.8634821  0.13651788]\n",
      "[0.87211686 0.12788317]\n",
      "[0.80912155 0.19087851]\n",
      "[0.879397   0.12060308]\n",
      "[0.3061797 0.6938203]\n",
      "[0.8887702  0.11122972]\n",
      "[0.38913432 0.6108657 ]\n",
      "[0.5082609  0.49173906]\n",
      "[0.90386844 0.09613147]\n",
      "[0.83491707 0.16508296]\n",
      "[0.1994243 0.8005757]\n",
      "[0.3796322  0.62036777]\n",
      "[0.8801414  0.11985859]\n",
      "[0.6361192  0.36388078]\n",
      "[0.7517996 0.2482005]\n",
      "[0.03999937 0.9600006 ]\n",
      "[0.03468662 0.9653134 ]\n",
      "[0.870955   0.12904505]\n",
      "[0.3180776  0.68192244]\n",
      "[0.8874235  0.11257644]\n",
      "[0.83484596 0.16515408]\n",
      "[0.2758159 0.7241841]\n",
      "[0.87294286 0.12705715]\n",
      "[0.01036534 0.9896346 ]\n",
      "[0.18870218 0.81129783]\n",
      "[0.89248806 0.10751187]\n",
      "[0.31265873 0.6873412 ]\n",
      "[0.85955566 0.14044432]\n",
      "[0.73560166 0.26439834]\n",
      "[0.89701444 0.10298552]\n",
      "[0.31187287 0.6881271 ]\n",
      "[0.3995229  0.60047704]\n",
      "[0.92602    0.07397991]\n",
      "[0.7939481  0.20605192]\n",
      "[0.16960754 0.8303925 ]\n",
      "[0.55361694 0.4463831 ]\n",
      "[0.06517533 0.93482465]\n",
      "[0.6239659  0.37603405]\n",
      "[0.8357072  0.16429281]\n",
      "[0.8804183  0.11958169]\n",
      "[0.87214184 0.12785815]\n",
      "[0.9607959  0.03920414]\n",
      "[0.1446106 0.8553894]\n",
      "[0.21920466 0.7807954 ]\n",
      "[0.8348383  0.16516165]\n",
      "[0.7601735  0.23982649]\n",
      "[0.09848236 0.9015176 ]\n",
      "[0.4173011 0.5826989]\n",
      "[0.89600694 0.10399304]\n",
      "[0.06065836 0.9393416 ]\n",
      "[0.16267648 0.8373235 ]\n",
      "[0.90769565 0.0923044 ]\n",
      "[0.39573985 0.60426015]\n",
      "[0.7839231 0.2160769]\n",
      "[0.5005108  0.49948916]\n"
     ]
    }
   ],
   "source": [
    "#Individual probabilities of a person surviving or not\n",
    "indiv_result = list(lin_est.predict(eval_input_fn))\n",
    "\n",
    "print(\"\\nProbab Died, Probab Survived\")\n",
    "for person in indiv_result:\n",
    "    print(person['probabilities'])"
   ]
  },
  {
   "cell_type": "code",
   "execution_count": 17,
   "id": "358ce50d",
   "metadata": {
    "scrolled": true
   },
   "outputs": [
    {
     "name": "stdout",
     "output_type": "stream",
     "text": [
      "sex                          male\n",
      "age                          35.0\n",
      "n_siblings_spouses              0\n",
      "parch                           0\n",
      "fare                         8.05\n",
      "class                       Third\n",
      "deck                      unknown\n",
      "embark_town           Southampton\n",
      "alone                           y\n",
      "Name: 0, dtype: object\n",
      "\n",
      "Probability of survival 0.08880908\n",
      "Actual case of survival 0\n"
     ]
    }
   ],
   "source": [
    "#Checking the results for a random person\n",
    "print(test.loc[0])\n",
    "print(\"\\nProbability of survival\", indiv_result[0]['probabilities'][1])\n",
    "print(\"Actual case of survival\", y_test[0])"
   ]
  }
 ],
 "metadata": {
  "kernelspec": {
   "display_name": "Python 3 (ipykernel)",
   "language": "python",
   "name": "python3"
  },
  "language_info": {
   "codemirror_mode": {
    "name": "ipython",
    "version": 3
   },
   "file_extension": ".py",
   "mimetype": "text/x-python",
   "name": "python",
   "nbconvert_exporter": "python",
   "pygments_lexer": "ipython3",
   "version": "3.8.10"
  }
 },
 "nbformat": 4,
 "nbformat_minor": 5
}
